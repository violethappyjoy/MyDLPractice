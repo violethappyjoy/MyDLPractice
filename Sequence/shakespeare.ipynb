{
 "cells": [
  {
   "cell_type": "code",
   "execution_count": 1,
   "metadata": {},
   "outputs": [
    {
     "name": "stdout",
     "output_type": "stream",
     "text": [
      "Mon Apr  1 22:41:15 2024       \n",
      "+-----------------------------------------------------------------------------------------+\n",
      "| NVIDIA-SMI 550.67                 Driver Version: 550.67         CUDA Version: 12.4     |\n",
      "|-----------------------------------------+------------------------+----------------------+\n",
      "| GPU  Name                 Persistence-M | Bus-Id          Disp.A | Volatile Uncorr. ECC |\n",
      "| Fan  Temp   Perf          Pwr:Usage/Cap |           Memory-Usage | GPU-Util  Compute M. |\n",
      "|                                         |                        |               MIG M. |\n",
      "|=========================================+========================+======================|\n",
      "|   0  NVIDIA GeForce RTX 2070 ...    Off |   00000000:0A:00.0  On |                  N/A |\n",
      "|  0%   41C    P8             23W /  215W |     460MiB /   8192MiB |     32%      Default |\n",
      "|                                         |                        |                  N/A |\n",
      "+-----------------------------------------+------------------------+----------------------+\n",
      "                                                                                         \n",
      "+-----------------------------------------------------------------------------------------+\n",
      "| Processes:                                                                              |\n",
      "|  GPU   GI   CI        PID   Type   Process name                              GPU Memory |\n",
      "|        ID   ID                                                               Usage      |\n",
      "|=========================================================================================|\n",
      "|    0   N/A  N/A       586      G   /usr/lib/Xorg                                  22MiB |\n",
      "|    0   N/A  N/A       646      G   Hyprland                                      207MiB |\n",
      "|    0   N/A  N/A     10920      G   /usr/lib/firefox/firefox                      163MiB |\n",
      "|    0   N/A  N/A     13314      G   Xwayland                                        3MiB |\n",
      "+-----------------------------------------------------------------------------------------+\n"
     ]
    }
   ],
   "source": [
    "!nvidia-smi"
   ]
  },
  {
   "cell_type": "code",
   "execution_count": 2,
   "metadata": {},
   "outputs": [],
   "source": [
    "import numpy as np\n",
    "import pandas as pd\n",
    "import matplotlib.pyplot as plt\n",
    "import opendatasets as od\n",
    "import string\n",
    "import random\n",
    "import os\n",
    "\n",
    "from collections import Counter\n",
    "import nltk\n",
    "from nltk.tokenize import word_tokenize\n",
    "\n",
    "import torch\n",
    "import torch.nn as nn\n",
    "import torch.nn.functional as F\n",
    "from torch.utils.data import Dataset, DataLoader\n",
    "from torchvision.transforms import Normalize, ToTensor"
   ]
  },
  {
   "cell_type": "code",
   "execution_count": 3,
   "metadata": {},
   "outputs": [
    {
     "name": "stderr",
     "output_type": "stream",
     "text": [
      "[nltk_data] Downloading package punkt to /home/joy/nltk_data...\n",
      "[nltk_data]   Package punkt is already up-to-date!\n"
     ]
    },
    {
     "data": {
      "text/plain": [
       "True"
      ]
     },
     "execution_count": 3,
     "metadata": {},
     "output_type": "execute_result"
    }
   ],
   "source": [
    "nltk.download('punkt')"
   ]
  },
  {
   "cell_type": "code",
   "execution_count": 4,
   "metadata": {},
   "outputs": [
    {
     "name": "stdout",
     "output_type": "stream",
     "text": [
      "cuda:0\n"
     ]
    }
   ],
   "source": [
    "if torch.cuda.is_available():\n",
    "    device=torch.device(type=\"cuda\", index=0)\n",
    "else:\n",
    "    device=torch.device(type=\"cpu\", index=0)\n",
    "print(device)"
   ]
  },
  {
   "cell_type": "code",
   "execution_count": 5,
   "metadata": {},
   "outputs": [
    {
     "data": {
      "text/html": [
       "<div>\n",
       "<style scoped>\n",
       "    .dataframe tbody tr th:only-of-type {\n",
       "        vertical-align: middle;\n",
       "    }\n",
       "\n",
       "    .dataframe tbody tr th {\n",
       "        vertical-align: top;\n",
       "    }\n",
       "\n",
       "    .dataframe thead th {\n",
       "        text-align: right;\n",
       "    }\n",
       "</style>\n",
       "<table border=\"1\" class=\"dataframe\">\n",
       "  <thead>\n",
       "    <tr style=\"text-align: right;\">\n",
       "      <th></th>\n",
       "      <th>Unnamed: 0</th>\n",
       "      <th>id</th>\n",
       "      <th>og</th>\n",
       "      <th>t</th>\n",
       "    </tr>\n",
       "  </thead>\n",
       "  <tbody>\n",
       "    <tr>\n",
       "      <th>0</th>\n",
       "      <td>0</td>\n",
       "      <td>42928-1500614319216-63344</td>\n",
       "      <td>You do not meet a man but frowns:</td>\n",
       "      <td>Every man you meet these days is frowning.</td>\n",
       "    </tr>\n",
       "    <tr>\n",
       "      <th>1</th>\n",
       "      <td>1</td>\n",
       "      <td>42928-1500614326583-89821</td>\n",
       "      <td>our bloods  No more obey the heavens than our...</td>\n",
       "      <td>Our bodies are in agreement with the planetar...</td>\n",
       "    </tr>\n",
       "    <tr>\n",
       "      <th>2</th>\n",
       "      <td>2</td>\n",
       "      <td>A-63849</td>\n",
       "      <td>But what's the matter?</td>\n",
       "      <td>What's wrong?</td>\n",
       "    </tr>\n",
       "    <tr>\n",
       "      <th>3</th>\n",
       "      <td>3</td>\n",
       "      <td>42930-1500614347266-80123</td>\n",
       "      <td>His daughter, and the heir of's kingdom, whom...</td>\n",
       "      <td>The king wanted his daughter, the only heir to...</td>\n",
       "    </tr>\n",
       "    <tr>\n",
       "      <th>4</th>\n",
       "      <td>4</td>\n",
       "      <td>42930-1500614355280-38326</td>\n",
       "      <td>she's wedded;  Her husband banish'd; she impr...</td>\n",
       "      <td>She's married, her husband is banished, she's...</td>\n",
       "    </tr>\n",
       "  </tbody>\n",
       "</table>\n",
       "</div>"
      ],
      "text/plain": [
       "   Unnamed: 0                         id  \\\n",
       "0           0  42928-1500614319216-63344   \n",
       "1           1  42928-1500614326583-89821   \n",
       "2           2                    A-63849   \n",
       "3           3  42930-1500614347266-80123   \n",
       "4           4  42930-1500614355280-38326   \n",
       "\n",
       "                                                  og  \\\n",
       "0                 You do not meet a man but frowns:    \n",
       "1   our bloods  No more obey the heavens than our...   \n",
       "2                           But what's the matter?     \n",
       "3   His daughter, and the heir of's kingdom, whom...   \n",
       "4   she's wedded;  Her husband banish'd; she impr...   \n",
       "\n",
       "                                                   t  \n",
       "0         Every man you meet these days is frowning.  \n",
       "1   Our bodies are in agreement with the planetar...  \n",
       "2                                      What's wrong?  \n",
       "3  The king wanted his daughter, the only heir to...  \n",
       "4   She's married, her husband is banished, she's...  "
      ]
     },
     "execution_count": 5,
     "metadata": {},
     "output_type": "execute_result"
    }
   ],
   "source": [
    "dataset_path = \"Datasets/final.csv\"\n",
    "dataset = pd.read_csv(dataset_path)\n",
    "dataset.head()"
   ]
  },
  {
   "cell_type": "code",
   "execution_count": 6,
   "metadata": {},
   "outputs": [],
   "source": [
    "# dataset['og_tokens'] = dataset['og'].apply(word_tokenize)\n",
    "# dataset['t_tokens'] = dataset['t'].apply(word_tokenize)\n",
    "\n",
    "# dataset.head()"
   ]
  },
  {
   "cell_type": "code",
   "execution_count": 7,
   "metadata": {},
   "outputs": [
    {
     "data": {
      "text/html": [
       "<div>\n",
       "<style scoped>\n",
       "    .dataframe tbody tr th:only-of-type {\n",
       "        vertical-align: middle;\n",
       "    }\n",
       "\n",
       "    .dataframe tbody tr th {\n",
       "        vertical-align: top;\n",
       "    }\n",
       "\n",
       "    .dataframe thead th {\n",
       "        text-align: right;\n",
       "    }\n",
       "</style>\n",
       "<table border=\"1\" class=\"dataframe\">\n",
       "  <thead>\n",
       "    <tr style=\"text-align: right;\">\n",
       "      <th></th>\n",
       "      <th>Unnamed: 0</th>\n",
       "      <th>id</th>\n",
       "      <th>og</th>\n",
       "      <th>t</th>\n",
       "      <th>og_words</th>\n",
       "      <th>t_words</th>\n",
       "    </tr>\n",
       "  </thead>\n",
       "  <tbody>\n",
       "    <tr>\n",
       "      <th>0</th>\n",
       "      <td>0</td>\n",
       "      <td>42928-1500614319216-63344</td>\n",
       "      <td>You do not meet a man but frowns:</td>\n",
       "      <td>Every man you meet these days is frowning.</td>\n",
       "      <td>[You, do, not, meet, a, man, but, frowns:]</td>\n",
       "      <td>[Every, man, you, meet, these, days, is, frown...</td>\n",
       "    </tr>\n",
       "    <tr>\n",
       "      <th>1</th>\n",
       "      <td>1</td>\n",
       "      <td>42928-1500614326583-89821</td>\n",
       "      <td>our bloods  No more obey the heavens than our...</td>\n",
       "      <td>Our bodies are in agreement with the planetar...</td>\n",
       "      <td>[our, bloods, No, more, obey, the, heavens, th...</td>\n",
       "      <td>[Our, bodies, are, in, agreement, with, the, p...</td>\n",
       "    </tr>\n",
       "    <tr>\n",
       "      <th>2</th>\n",
       "      <td>2</td>\n",
       "      <td>A-63849</td>\n",
       "      <td>But what's the matter?</td>\n",
       "      <td>What's wrong?</td>\n",
       "      <td>[But, what's, the, matter?]</td>\n",
       "      <td>[What's, wrong?]</td>\n",
       "    </tr>\n",
       "    <tr>\n",
       "      <th>3</th>\n",
       "      <td>3</td>\n",
       "      <td>42930-1500614347266-80123</td>\n",
       "      <td>His daughter, and the heir of's kingdom, whom...</td>\n",
       "      <td>The king wanted his daughter, the only heir to...</td>\n",
       "      <td>[His, daughter,, and, the, heir, of's, kingdom...</td>\n",
       "      <td>[The, king, wanted, his, daughter,, the, only,...</td>\n",
       "    </tr>\n",
       "    <tr>\n",
       "      <th>4</th>\n",
       "      <td>4</td>\n",
       "      <td>42930-1500614355280-38326</td>\n",
       "      <td>she's wedded;  Her husband banish'd; she impr...</td>\n",
       "      <td>She's married, her husband is banished, she's...</td>\n",
       "      <td>[she's, wedded;, Her, husband, banish'd;, she,...</td>\n",
       "      <td>[She's, married,, her, husband, is, banished,,...</td>\n",
       "    </tr>\n",
       "  </tbody>\n",
       "</table>\n",
       "</div>"
      ],
      "text/plain": [
       "   Unnamed: 0                         id  \\\n",
       "0           0  42928-1500614319216-63344   \n",
       "1           1  42928-1500614326583-89821   \n",
       "2           2                    A-63849   \n",
       "3           3  42930-1500614347266-80123   \n",
       "4           4  42930-1500614355280-38326   \n",
       "\n",
       "                                                  og  \\\n",
       "0                 You do not meet a man but frowns:    \n",
       "1   our bloods  No more obey the heavens than our...   \n",
       "2                           But what's the matter?     \n",
       "3   His daughter, and the heir of's kingdom, whom...   \n",
       "4   she's wedded;  Her husband banish'd; she impr...   \n",
       "\n",
       "                                                   t  \\\n",
       "0         Every man you meet these days is frowning.   \n",
       "1   Our bodies are in agreement with the planetar...   \n",
       "2                                      What's wrong?   \n",
       "3  The king wanted his daughter, the only heir to...   \n",
       "4   She's married, her husband is banished, she's...   \n",
       "\n",
       "                                            og_words  \\\n",
       "0         [You, do, not, meet, a, man, but, frowns:]   \n",
       "1  [our, bloods, No, more, obey, the, heavens, th...   \n",
       "2                        [But, what's, the, matter?]   \n",
       "3  [His, daughter,, and, the, heir, of's, kingdom...   \n",
       "4  [she's, wedded;, Her, husband, banish'd;, she,...   \n",
       "\n",
       "                                             t_words  \n",
       "0  [Every, man, you, meet, these, days, is, frown...  \n",
       "1  [Our, bodies, are, in, agreement, with, the, p...  \n",
       "2                                   [What's, wrong?]  \n",
       "3  [The, king, wanted, his, daughter,, the, only,...  \n",
       "4  [She's, married,, her, husband, is, banished,,...  "
      ]
     },
     "execution_count": 7,
     "metadata": {},
     "output_type": "execute_result"
    }
   ],
   "source": [
    "# Tokenize sentences into words, here split for only whitespace.\n",
    "# IMPROVEMENT: can have custom split.\n",
    "dataset['og_words'] = dataset['og'].str.split()\n",
    "dataset['t_words'] = dataset['t'].str.split()\n",
    "\n",
    "dataset.head()"
   ]
  },
  {
   "cell_type": "code",
   "execution_count": 8,
   "metadata": {},
   "outputs": [
    {
     "name": "stdout",
     "output_type": "stream",
     "text": [
      "73560\n",
      "49281\n"
     ]
    }
   ],
   "source": [
    "# creating a vocabulary/corpus for both types for texts\n",
    "shakespeare_vocab = set()\n",
    "modernEnglis_vocab = set()\n",
    "\n",
    "for word in dataset['og_words']:\n",
    "    shakespeare_vocab.update(word)\n",
    "    \n",
    "for word in dataset['t_words']:\n",
    "    modernEnglis_vocab.update(word)\n",
    "    \n",
    "shakespeare_vocab.add('<PAD>')\n",
    "shakespeare_vocab.add('<UNK>')\n",
    "\n",
    "modernEnglis_vocab.add('<PAD>')\n",
    "modernEnglis_vocab.add('<UNK>')\n",
    "\n",
    "print(len(shakespeare_vocab))\n",
    "print(len(modernEnglis_vocab))"
   ]
  },
  {
   "cell_type": "code",
   "execution_count": 11,
   "metadata": {},
   "outputs": [
    {
     "name": "stdout",
     "output_type": "stream",
     "text": [
      "volant: 0\n",
      "invert: 1\n",
      "speak—such: 2\n"
     ]
    }
   ],
   "source": [
    "# Word to index\n",
    "shakespeare_word_to_idx = {word: idx for idx, word in enumerate(shakespeare_vocab)}\n",
    "modernEnglis_word_to_idx = {word: idx for idx, word in enumerate(modernEnglis_vocab)}\n",
    "\n",
    "for word, idx in list(shakespeare_word_to_idx.items())[:3]:\n",
    "    print(f\"{word}: {idx}\")"
   ]
  },
  {
   "cell_type": "code",
   "execution_count": 13,
   "metadata": {},
   "outputs": [
    {
     "data": {
      "text/html": [
       "<div>\n",
       "<style scoped>\n",
       "    .dataframe tbody tr th:only-of-type {\n",
       "        vertical-align: middle;\n",
       "    }\n",
       "\n",
       "    .dataframe tbody tr th {\n",
       "        vertical-align: top;\n",
       "    }\n",
       "\n",
       "    .dataframe thead th {\n",
       "        text-align: right;\n",
       "    }\n",
       "</style>\n",
       "<table border=\"1\" class=\"dataframe\">\n",
       "  <thead>\n",
       "    <tr style=\"text-align: right;\">\n",
       "      <th></th>\n",
       "      <th>Unnamed: 0</th>\n",
       "      <th>id</th>\n",
       "      <th>og</th>\n",
       "      <th>t</th>\n",
       "      <th>og_words</th>\n",
       "      <th>t_words</th>\n",
       "      <th>og_indices</th>\n",
       "      <th>t_indices</th>\n",
       "    </tr>\n",
       "  </thead>\n",
       "  <tbody>\n",
       "    <tr>\n",
       "      <th>0</th>\n",
       "      <td>0</td>\n",
       "      <td>42928-1500614319216-63344</td>\n",
       "      <td>You do not meet a man but frowns:</td>\n",
       "      <td>Every man you meet these days is frowning.</td>\n",
       "      <td>[You, do, not, meet, a, man, but, frowns:]</td>\n",
       "      <td>[Every, man, you, meet, these, days, is, frown...</td>\n",
       "      <td>[43525, 37492, 3073, 41869, 58861, 6935, 41152...</td>\n",
       "      <td>[3216, 4687, 45015, 28240, 4522, 38200, 38243,...</td>\n",
       "    </tr>\n",
       "    <tr>\n",
       "      <th>1</th>\n",
       "      <td>1</td>\n",
       "      <td>42928-1500614326583-89821</td>\n",
       "      <td>our bloods  No more obey the heavens than our...</td>\n",
       "      <td>Our bodies are in agreement with the planetar...</td>\n",
       "      <td>[our, bloods, No, more, obey, the, heavens, th...</td>\n",
       "      <td>[Our, bodies, are, in, agreement, with, the, p...</td>\n",
       "      <td>[19207, 45623, 69451, 17208, 60335, 21625, 529...</td>\n",
       "      <td>[14967, 8289, 13640, 6442, 48937, 36966, 14685...</td>\n",
       "    </tr>\n",
       "    <tr>\n",
       "      <th>2</th>\n",
       "      <td>2</td>\n",
       "      <td>A-63849</td>\n",
       "      <td>But what's the matter?</td>\n",
       "      <td>What's wrong?</td>\n",
       "      <td>[But, what's, the, matter?]</td>\n",
       "      <td>[What's, wrong?]</td>\n",
       "      <td>[22162, 15007, 21625, 68726]</td>\n",
       "      <td>[22474, 15792]</td>\n",
       "    </tr>\n",
       "    <tr>\n",
       "      <th>3</th>\n",
       "      <td>3</td>\n",
       "      <td>42930-1500614347266-80123</td>\n",
       "      <td>His daughter, and the heir of's kingdom, whom...</td>\n",
       "      <td>The king wanted his daughter, the only heir to...</td>\n",
       "      <td>[His, daughter,, and, the, heir, of's, kingdom...</td>\n",
       "      <td>[The, king, wanted, his, daughter,, the, only,...</td>\n",
       "      <td>[58605, 43914, 1661, 21625, 1179, 69883, 35097...</td>\n",
       "      <td>[2819, 233, 39499, 48493, 29618, 14685, 31856,...</td>\n",
       "    </tr>\n",
       "    <tr>\n",
       "      <th>4</th>\n",
       "      <td>4</td>\n",
       "      <td>42930-1500614355280-38326</td>\n",
       "      <td>she's wedded;  Her husband banish'd; she impr...</td>\n",
       "      <td>She's married, her husband is banished, she's...</td>\n",
       "      <td>[she's, wedded;, Her, husband, banish'd;, she,...</td>\n",
       "      <td>[She's, married,, her, husband, is, banished,,...</td>\n",
       "      <td>[8595, 60050, 28568, 748, 52080, 46541, 61853,...</td>\n",
       "      <td>[800, 22385, 33545, 495, 38243, 19969, 5850, 3...</td>\n",
       "    </tr>\n",
       "  </tbody>\n",
       "</table>\n",
       "</div>"
      ],
      "text/plain": [
       "   Unnamed: 0                         id  \\\n",
       "0           0  42928-1500614319216-63344   \n",
       "1           1  42928-1500614326583-89821   \n",
       "2           2                    A-63849   \n",
       "3           3  42930-1500614347266-80123   \n",
       "4           4  42930-1500614355280-38326   \n",
       "\n",
       "                                                  og  \\\n",
       "0                 You do not meet a man but frowns:    \n",
       "1   our bloods  No more obey the heavens than our...   \n",
       "2                           But what's the matter?     \n",
       "3   His daughter, and the heir of's kingdom, whom...   \n",
       "4   she's wedded;  Her husband banish'd; she impr...   \n",
       "\n",
       "                                                   t  \\\n",
       "0         Every man you meet these days is frowning.   \n",
       "1   Our bodies are in agreement with the planetar...   \n",
       "2                                      What's wrong?   \n",
       "3  The king wanted his daughter, the only heir to...   \n",
       "4   She's married, her husband is banished, she's...   \n",
       "\n",
       "                                            og_words  \\\n",
       "0         [You, do, not, meet, a, man, but, frowns:]   \n",
       "1  [our, bloods, No, more, obey, the, heavens, th...   \n",
       "2                        [But, what's, the, matter?]   \n",
       "3  [His, daughter,, and, the, heir, of's, kingdom...   \n",
       "4  [she's, wedded;, Her, husband, banish'd;, she,...   \n",
       "\n",
       "                                             t_words  \\\n",
       "0  [Every, man, you, meet, these, days, is, frown...   \n",
       "1  [Our, bodies, are, in, agreement, with, the, p...   \n",
       "2                                   [What's, wrong?]   \n",
       "3  [The, king, wanted, his, daughter,, the, only,...   \n",
       "4  [She's, married,, her, husband, is, banished,,...   \n",
       "\n",
       "                                          og_indices  \\\n",
       "0  [43525, 37492, 3073, 41869, 58861, 6935, 41152...   \n",
       "1  [19207, 45623, 69451, 17208, 60335, 21625, 529...   \n",
       "2                       [22162, 15007, 21625, 68726]   \n",
       "3  [58605, 43914, 1661, 21625, 1179, 69883, 35097...   \n",
       "4  [8595, 60050, 28568, 748, 52080, 46541, 61853,...   \n",
       "\n",
       "                                           t_indices  \n",
       "0  [3216, 4687, 45015, 28240, 4522, 38200, 38243,...  \n",
       "1  [14967, 8289, 13640, 6442, 48937, 36966, 14685...  \n",
       "2                                     [22474, 15792]  \n",
       "3  [2819, 233, 39499, 48493, 29618, 14685, 31856,...  \n",
       "4  [800, 22385, 33545, 495, 38243, 19969, 5850, 3...  "
      ]
     },
     "execution_count": 13,
     "metadata": {},
     "output_type": "execute_result"
    }
   ],
   "source": [
    "# Converting words to the encoded indices.\n",
    "\n",
    "dataset['og_indices'] = dataset['og_words'].apply(lambda words: [shakespeare_word_to_idx.get(word, shakespeare_word_to_idx['<UNK>']) for word in words])\n",
    "dataset['t_indices'] = dataset['t_words'].apply(lambda words: [modernEnglis_word_to_idx.get(word, modernEnglis_word_to_idx['<UNK>']) for word in words])\n",
    "\n",
    "dataset.head()"
   ]
  },
  {
   "cell_type": "code",
   "execution_count": 14,
   "metadata": {},
   "outputs": [
    {
     "name": "stdout",
     "output_type": "stream",
     "text": [
      "161\n"
     ]
    }
   ],
   "source": [
    "#  PADDING\n",
    "\n",
    "max_len = max(dataset['og_indices'].apply(len).max(), dataset['t_indices'].apply(len).max())\n",
    "print(max_len)"
   ]
  },
  {
   "cell_type": "code",
   "execution_count": null,
   "metadata": {},
   "outputs": [],
   "source": [
    "class ShakespeareDataset(Dataset):\n",
    "    def __init__(self, file_path) -> None:\n",
    "        super().__init__()\n",
    "        self.data = self.loadData(file_path)\n",
    "        self.vocab = self.getVocab()\n",
    "        \n",
    "    def loadData(self, file_path):\n",
    "        # Preprocess as well\n",
    "        with open(file_path, 'r', encoding='utf-8') as file:\n",
    "            data = file.read()\n",
    "        lines = data.split('\\n')\n",
    "        lines = [line.strip(r'\\\"') for line in lines]\n",
    "        words = ' '.join(lines).split()\n",
    "        punct = set(string.punctuation)\n",
    "        words = [''.join([char for char in list(word) if char not in punct]) for word in words]\n",
    "        return words\n",
    "    \n",
    "    def getVocab(self):\n",
    "        char_counts = Counter(self.data)\n",
    "        vocab = {char: idx for idx, (char, _) in enumerate(sorted(char_counts.items()))}\n",
    "        vocab_size = len(vocab)\n",
    "        return vocab, vocab_size\n",
    "    \n",
    "    def __len__(self):\n",
    "        return len(self.data)\n",
    "    \n",
    "    # def __getitem__(self, index):\n",
    "    #     return "
   ]
  },
  {
   "cell_type": "code",
   "execution_count": 1,
   "metadata": {},
   "outputs": [
    {
     "name": "stderr",
     "output_type": "stream",
     "text": [
      "/usr/local/lib/python3.6/site-packages/tqdm/auto.py:22: TqdmWarning: IProgress not found. Please update jupyter and ipywidgets. See https://ipywidgets.readthedocs.io/en/stable/user_install.html\n",
      "  from .autonotebook import tqdm as notebook_tqdm\n"
     ]
    }
   ],
   "source": [
    "from models.models import Encoder, Decoder, EncDec"
   ]
  },
  {
   "cell_type": "code",
   "execution_count": 4,
   "metadata": {},
   "outputs": [
    {
     "name": "stdout",
     "output_type": "stream",
     "text": [
      "Encoder(\n",
      "  (rnn): LSTM(3, 2, num_layers=2)\n",
      ")\n"
     ]
    }
   ],
   "source": [
    "e = Encoder(3,2,2,'lstm')\n",
    "print(e)"
   ]
  },
  {
   "cell_type": "code",
   "execution_count": null,
   "metadata": {},
   "outputs": [],
   "source": []
  }
 ],
 "metadata": {
  "kernelspec": {
   "display_name": "Python 3",
   "language": "python",
   "name": "python3"
  },
  "language_info": {
   "codemirror_mode": {
    "name": "ipython",
    "version": 3
   },
   "file_extension": ".py",
   "mimetype": "text/x-python",
   "name": "python",
   "nbconvert_exporter": "python",
   "pygments_lexer": "ipython3",
   "version": "3.11.8"
  }
 },
 "nbformat": 4,
 "nbformat_minor": 4
}
