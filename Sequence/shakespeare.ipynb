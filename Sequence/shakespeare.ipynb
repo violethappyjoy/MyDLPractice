{
 "cells": [
  {
   "cell_type": "code",
   "execution_count": 12,
   "metadata": {},
   "outputs": [
    {
     "name": "stdout",
     "output_type": "stream",
     "text": [
      "Wed Mar 20 23:41:52 2024       \n",
      "+-----------------------------------------------------------------------------------------+\n",
      "| NVIDIA-SMI 550.54.14              Driver Version: 550.54.14      CUDA Version: 12.4     |\n",
      "|-----------------------------------------+------------------------+----------------------+\n",
      "| GPU  Name                 Persistence-M | Bus-Id          Disp.A | Volatile Uncorr. ECC |\n",
      "| Fan  Temp   Perf          Pwr:Usage/Cap |           Memory-Usage | GPU-Util  Compute M. |\n",
      "|                                         |                        |               MIG M. |\n",
      "|=========================================+========================+======================|\n",
      "|   0  NVIDIA GeForce RTX 2070 ...    Off |   00000000:0A:00.0  On |                  N/A |\n",
      "|  0%   49C    P8             23W /  215W |     478MiB /   8192MiB |     23%      Default |\n",
      "|                                         |                        |                  N/A |\n",
      "+-----------------------------------------+------------------------+----------------------+\n",
      "                                                                                         \n",
      "+-----------------------------------------------------------------------------------------+\n",
      "| Processes:                                                                              |\n",
      "|  GPU   GI   CI        PID   Type   Process name                              GPU Memory |\n",
      "|        ID   ID                                                               Usage      |\n",
      "|=========================================================================================|\n",
      "|    0   N/A  N/A       594      G   /usr/lib/Xorg                                  22MiB |\n",
      "|    0   N/A  N/A       657      G   Hyprland                                      175MiB |\n",
      "|    0   N/A  N/A      1718      G   /usr/lib/firefox/firefox                      202MiB |\n",
      "|    0   N/A  N/A      9118      G   Xwayland                                        3MiB |\n",
      "|    0   N/A  N/A     16424      G   kitty                                          18MiB |\n",
      "+-----------------------------------------------------------------------------------------+\n"
     ]
    }
   ],
   "source": [
    "!nvidia-smi"
   ]
  },
  {
   "cell_type": "code",
   "execution_count": 1,
   "metadata": {},
   "outputs": [],
   "source": [
    "import numpy as np\n",
    "import pandas as pd\n",
    "import matplotlib.pyplot as plt\n",
    "import opendatasets as od\n",
    "import string\n",
    "import random\n",
    "import os\n",
    "\n",
    "from collections import Counter\n",
    "\n",
    "import torch\n",
    "import torch.nn as nn\n",
    "import torch.nn.functional as F\n",
    "from torch.utils.data import Dataset, DataLoader\n",
    "from torchvision.transforms import Normalize, ToTensor"
   ]
  },
  {
   "cell_type": "code",
   "execution_count": 2,
   "metadata": {},
   "outputs": [
    {
     "name": "stdout",
     "output_type": "stream",
     "text": [
      "cuda:0\n"
     ]
    }
   ],
   "source": [
    "if torch.cuda.is_available():\n",
    "    device=torch.device(type=\"cuda\", index=0)\n",
    "else:\n",
    "    device=torch.device(type=\"cpu\", index=0)\n",
    "print(device)"
   ]
  },
  {
   "cell_type": "code",
   "execution_count": 4,
   "metadata": {},
   "outputs": [
    {
     "data": {
      "text/html": [
       "<div>\n",
       "<style scoped>\n",
       "    .dataframe tbody tr th:only-of-type {\n",
       "        vertical-align: middle;\n",
       "    }\n",
       "\n",
       "    .dataframe tbody tr th {\n",
       "        vertical-align: top;\n",
       "    }\n",
       "\n",
       "    .dataframe thead th {\n",
       "        text-align: right;\n",
       "    }\n",
       "</style>\n",
       "<table border=\"1\" class=\"dataframe\">\n",
       "  <thead>\n",
       "    <tr style=\"text-align: right;\">\n",
       "      <th></th>\n",
       "      <th>Unnamed: 0</th>\n",
       "      <th>id</th>\n",
       "      <th>og</th>\n",
       "      <th>t</th>\n",
       "    </tr>\n",
       "  </thead>\n",
       "  <tbody>\n",
       "    <tr>\n",
       "      <th>0</th>\n",
       "      <td>0</td>\n",
       "      <td>42928-1500614319216-63344</td>\n",
       "      <td>You do not meet a man but frowns:</td>\n",
       "      <td>Every man you meet these days is frowning.</td>\n",
       "    </tr>\n",
       "    <tr>\n",
       "      <th>1</th>\n",
       "      <td>1</td>\n",
       "      <td>42928-1500614326583-89821</td>\n",
       "      <td>our bloods  No more obey the heavens than our...</td>\n",
       "      <td>Our bodies are in agreement with the planetar...</td>\n",
       "    </tr>\n",
       "    <tr>\n",
       "      <th>2</th>\n",
       "      <td>2</td>\n",
       "      <td>A-63849</td>\n",
       "      <td>But what's the matter?</td>\n",
       "      <td>What's wrong?</td>\n",
       "    </tr>\n",
       "    <tr>\n",
       "      <th>3</th>\n",
       "      <td>3</td>\n",
       "      <td>42930-1500614347266-80123</td>\n",
       "      <td>His daughter, and the heir of's kingdom, whom...</td>\n",
       "      <td>The king wanted his daughter, the only heir to...</td>\n",
       "    </tr>\n",
       "    <tr>\n",
       "      <th>4</th>\n",
       "      <td>4</td>\n",
       "      <td>42930-1500614355280-38326</td>\n",
       "      <td>she's wedded;  Her husband banish'd; she impr...</td>\n",
       "      <td>She's married, her husband is banished, she's...</td>\n",
       "    </tr>\n",
       "  </tbody>\n",
       "</table>\n",
       "</div>"
      ],
      "text/plain": [
       "   Unnamed: 0                         id  \\\n",
       "0           0  42928-1500614319216-63344   \n",
       "1           1  42928-1500614326583-89821   \n",
       "2           2                    A-63849   \n",
       "3           3  42930-1500614347266-80123   \n",
       "4           4  42930-1500614355280-38326   \n",
       "\n",
       "                                                  og  \\\n",
       "0                 You do not meet a man but frowns:    \n",
       "1   our bloods  No more obey the heavens than our...   \n",
       "2                           But what's the matter?     \n",
       "3   His daughter, and the heir of's kingdom, whom...   \n",
       "4   she's wedded;  Her husband banish'd; she impr...   \n",
       "\n",
       "                                                   t  \n",
       "0         Every man you meet these days is frowning.  \n",
       "1   Our bodies are in agreement with the planetar...  \n",
       "2                                      What's wrong?  \n",
       "3  The king wanted his daughter, the only heir to...  \n",
       "4   She's married, her husband is banished, she's...  "
      ]
     },
     "execution_count": 4,
     "metadata": {},
     "output_type": "execute_result"
    }
   ],
   "source": [
    "dataset_path = \"Datasets/final.csv\"\n",
    "org_dataset = pd.read_csv(dataset_path)\n",
    "org_dataset.head()"
   ]
  },
  {
   "cell_type": "code",
   "execution_count": 10,
   "metadata": {},
   "outputs": [],
   "source": [
    "\n",
    "assoc_dict = dict(zip(org_dataset['t'], org_dataset['og']))\n",
    "# print(assoc_dict.items())"
   ]
  },
  {
   "cell_type": "code",
   "execution_count": null,
   "metadata": {},
   "outputs": [],
   "source": [
    "class ShakespeareDataset(Dataset):\n",
    "    def __init__(self, file_path) -> None:\n",
    "        super().__init__()\n",
    "        self.data = self.loadData(file_path)\n",
    "        self.vocab = self.getVocab()\n",
    "        \n",
    "    def loadData(self, file_path):\n",
    "        # Preprocess as well\n",
    "        with open(file_path, 'r', encoding='utf-8') as file:\n",
    "            data = file.read()\n",
    "        lines = data.split('\\n')\n",
    "        lines = [line.strip(r'\\\"') for line in lines]\n",
    "        words = ' '.join(lines).split()\n",
    "        punct = set(string.punctuation)\n",
    "        words = [''.join([char for char in list(word) if char not in punct]) for word in words]\n",
    "        return words\n",
    "    \n",
    "    def getVocab(self):\n",
    "        char_counts = Counter(self.data)\n",
    "        vocab = {char: idx for idx, (char, _) in enumerate(sorted(char_counts.items()))}\n",
    "        vocab_size = len(vocab)\n",
    "        return vocab, vocab_size\n",
    "    \n",
    "    def __len__(self):\n",
    "        return len(self.data)\n",
    "    \n",
    "    # def __getitem__(self, index):\n",
    "    #     return "
   ]
  },
  {
   "cell_type": "code",
   "execution_count": 1,
   "metadata": {},
   "outputs": [
    {
     "name": "stderr",
     "output_type": "stream",
     "text": [
      "/usr/local/lib/python3.6/site-packages/tqdm/auto.py:22: TqdmWarning: IProgress not found. Please update jupyter and ipywidgets. See https://ipywidgets.readthedocs.io/en/stable/user_install.html\n",
      "  from .autonotebook import tqdm as notebook_tqdm\n"
     ]
    }
   ],
   "source": [
    "from models.models import Encoder, Decoder, EncDec"
   ]
  },
  {
   "cell_type": "code",
   "execution_count": 4,
   "metadata": {},
   "outputs": [
    {
     "name": "stdout",
     "output_type": "stream",
     "text": [
      "Encoder(\n",
      "  (rnn): LSTM(3, 2, num_layers=2)\n",
      ")\n"
     ]
    }
   ],
   "source": [
    "e = Encoder(3,2,2,'lstm')\n",
    "print(e)"
   ]
  },
  {
   "cell_type": "code",
   "execution_count": null,
   "metadata": {},
   "outputs": [],
   "source": []
  }
 ],
 "metadata": {
  "kernelspec": {
   "display_name": "Python 3",
   "language": "python",
   "name": "python3"
  },
  "language_info": {
   "codemirror_mode": {
    "name": "ipython",
    "version": 3
   },
   "file_extension": ".py",
   "mimetype": "text/x-python",
   "name": "python",
   "nbconvert_exporter": "python",
   "pygments_lexer": "ipython3",
   "version": "3.11.8"
  }
 },
 "nbformat": 4,
 "nbformat_minor": 4
}
