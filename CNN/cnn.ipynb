{
 "cells": [
  {
   "cell_type": "code",
   "execution_count": 1,
   "metadata": {},
   "outputs": [],
   "source": [
    "import torch\n",
    "import torch.nn as nn\n",
    "import torch.nn.functional as F\n",
    "import torch.optim as optim \n",
    "from torch.utils.data import DataLoader, Dataset\n",
    "from torchvision import datasets, transforms, utils\n",
    "from torchvision.transforms import ToTensor\n",
    "import numpy as np\n",
    "import matplotlib.pyplot as plt\n",
    "import pandas as pd\n",
    "import scipy.misc\n",
    "import json\n",
    "from PIL import Image"
   ]
  },
  {
   "cell_type": "code",
   "execution_count": 2,
   "metadata": {},
   "outputs": [
    {
     "name": "stdout",
     "output_type": "stream",
     "text": [
      "Tue Feb 27 19:57:10 2024       \n",
      "+---------------------------------------------------------------------------------------+\n",
      "| NVIDIA-SMI 545.29.06              Driver Version: 545.29.06    CUDA Version: 12.3     |\n",
      "|-----------------------------------------+----------------------+----------------------+\n",
      "| GPU  Name                 Persistence-M | Bus-Id        Disp.A | Volatile Uncorr. ECC |\n",
      "| Fan  Temp   Perf          Pwr:Usage/Cap |         Memory-Usage | GPU-Util  Compute M. |\n",
      "|                                         |                      |               MIG M. |\n",
      "|=========================================+======================+======================|\n",
      "|   0  NVIDIA GeForce RTX 2070 ...    Off | 00000000:0A:00.0  On |                  N/A |\n",
      "|  0%   56C    P5              55W / 215W |    905MiB /  8192MiB |      9%      Default |\n",
      "|                                         |                      |                  N/A |\n",
      "+-----------------------------------------+----------------------+----------------------+\n",
      "                                                                                         \n",
      "+---------------------------------------------------------------------------------------+\n",
      "| Processes:                                                                            |\n",
      "|  GPU   GI   CI        PID   Type   Process name                            GPU Memory |\n",
      "|        ID   ID                                                             Usage      |\n",
      "|=======================================================================================|\n",
      "|    0   N/A  N/A      1945      G   /usr/lib/Xorg                               254MiB |\n",
      "|    0   N/A  N/A      3165      G   /usr/bin/kwalletd5                            2MiB |\n",
      "|    0   N/A  N/A      3232      G   /usr/bin/ksmserver                            2MiB |\n",
      "|    0   N/A  N/A      3234      G   /usr/bin/kded5                                2MiB |\n",
      "|    0   N/A  N/A      3235      G   /usr/bin/kwin_x11                           128MiB |\n",
      "|    0   N/A  N/A      3291      G   /usr/bin/plasmashell                         37MiB |\n",
      "|    0   N/A  N/A      3311      G   ...b/polkit-kde-authentication-agent-1        2MiB |\n",
      "|    0   N/A  N/A      3313      G   /usr/lib/xdg-desktop-portal-kde              20MiB |\n",
      "|    0   N/A  N/A      3490      G   /usr/bin/kclockd                              2MiB |\n",
      "|    0   N/A  N/A      3491      G   /usr/lib/kdeconnectd                          2MiB |\n",
      "|    0   N/A  N/A      3494      G   /usr/bin/latte-dock                          19MiB |\n",
      "|    0   N/A  N/A      3511      G   /usr/bin/kaccess                              2MiB |\n",
      "|    0   N/A  N/A      3519      G   /usr/lib/DiscoverNotifier                     2MiB |\n",
      "|    0   N/A  N/A      3560      G   /usr/bin/kmix                                 2MiB |\n",
      "|    0   N/A  N/A      3565      G   /usr/bin/kalendarac                           2MiB |\n",
      "|    0   N/A  N/A      3619      G   /usr/bin/akonadi_control                      2MiB |\n",
      "|    0   N/A  N/A      3802      G   /usr/bin/akonadi_akonotes_resource            2MiB |\n",
      "|    0   N/A  N/A      3803      G   /usr/bin/akonadi_archivemail_agent            2MiB |\n",
      "|    0   N/A  N/A      3804      G   /usr/bin/akonadi_birthdays_resource           2MiB |\n",
      "|    0   N/A  N/A      3806      G   /usr/bin/akonadi_contacts_resource            2MiB |\n",
      "|    0   N/A  N/A      3807      G   .../bin/akonadi_followupreminder_agent        2MiB |\n",
      "|    0   N/A  N/A      3808      G   /usr/bin/akonadi_ical_resource                2MiB |\n",
      "|    0   N/A  N/A      3819      G   /usr/bin/akonadi_indexing_agent               2MiB |\n",
      "|    0   N/A  N/A      3820      G   /usr/bin/akonadi_maildir_resource             2MiB |\n",
      "|    0   N/A  N/A      3821      G   /usr/bin/akonadi_maildispatcher_agent         2MiB |\n",
      "|    0   N/A  N/A      3822      G   /usr/bin/akonadi_mailfilter_agent             2MiB |\n",
      "|    0   N/A  N/A      3823      G   /usr/bin/akonadi_mailmerge_agent              2MiB |\n",
      "|    0   N/A  N/A      3824      G   /usr/bin/akonadi_migration_agent              2MiB |\n",
      "|    0   N/A  N/A      3825      G   /usr/bin/akonadi_newmailnotifier_agent        2MiB |\n",
      "|    0   N/A  N/A      3826      G   /usr/bin/akonadi_notes_agent                  2MiB |\n",
      "|    0   N/A  N/A      3827      G   /usr/bin/akonadi_sendlater_agent              2MiB |\n",
      "|    0   N/A  N/A      3828      G   /usr/bin/akonadi_unifiedmailbox_agent        28MiB |\n",
      "|    0   N/A  N/A     42065      G   /usr/lib/firefox/firefox                    142MiB |\n",
      "|    0   N/A  N/A     52971      G   /usr/bin/krunner                              9MiB |\n",
      "|    0   N/A  N/A     58496      G   ...sion,SpareRendererForSitePerProcess      150MiB |\n",
      "+---------------------------------------------------------------------------------------+\n"
     ]
    }
   ],
   "source": [
    "!nvidia-smi"
   ]
  },
  {
   "cell_type": "code",
   "execution_count": 3,
   "metadata": {},
   "outputs": [
    {
     "name": "stdout",
     "output_type": "stream",
     "text": [
      "cuda:0\n"
     ]
    }
   ],
   "source": [
    "if torch.cuda.is_available():\n",
    "    device = torch.device(type=\"cuda\", index=0)\n",
    "else:\n",
    "    device = torch.device(type=\"cpu\", index=0)\n",
    "    \n",
    "print(device)"
   ]
  },
  {
   "cell_type": "code",
   "execution_count": 4,
   "metadata": {},
   "outputs": [
    {
     "name": "stdout",
     "output_type": "stream",
     "text": [
      "28\n"
     ]
    }
   ],
   "source": [
    "train = datasets.MNIST(\"\", train=True, download=True,\n",
    "                       transform=transforms.Compose([ToTensor()]))\n",
    "test = datasets.MNIST(\"\", train=False, download=True,\n",
    "                       transform=transforms.Compose([ToTensor()]))\n",
    "\n",
    "print(len(train.data[0]))"
   ]
  },
  {
   "cell_type": "code",
   "execution_count": 5,
   "metadata": {},
   "outputs": [
    {
     "data": {
      "image/png": "[encoded data removed]",
      "text/plain": [
       "<Figure size 640x480 with 1 Axes>"
      ]
     },
     "metadata": {},
     "output_type": "display_data"
    },
    {
     "name": "stdout",
     "output_type": "stream",
     "text": [
      "2\n"
     ]
    }
   ],
   "source": [
    "plt.imshow(test[1][0].view(28,28), cmap=\"gray\")\n",
    "plt.show()\n",
    "print(test[1][1])"
   ]
  },
  {
   "cell_type": "code",
   "execution_count": 6,
   "metadata": {},
   "outputs": [],
   "source": [
    "batch_size = 64\n",
    "\n",
    "trainDl = DataLoader(dataset=train, batch_size=batch_size, shuffle=True)\n",
    "testDl = DataLoader(dataset=test, batch_size=batch_size)"
   ]
  },
  {
   "cell_type": "code",
   "execution_count": 7,
   "metadata": {},
   "outputs": [],
   "source": [
    "class CNN(nn.Module):\n",
    "    def __init__(self):\n",
    "        super().__init__()\n",
    "        self.relu = nn.ReLU()\n",
    "        \n",
    "        self.inp = nn.Conv2d(in_channels=1, out_channels=8, kernel_size=[3,3], stride=1, padding=0)\n",
    "        self.bn1 = nn.BatchNorm2d(num_features=8)\n",
    "        self.max1 = nn.MaxPool2d(kernel_size=(2,2), stride=2, padding=0)\n",
    "        \n",
    "        self.conv2 = nn.Conv2d(in_channels=8, out_channels=16, kernel_size=(3,3), stride=1, padding=0)\n",
    "        self.bn2 = nn.BatchNorm2d(num_features=16)\n",
    "        \n",
    "        self.conv3 = nn.Conv2d(in_channels=16, out_channels=32, kernel_size=(3,3), stride=1, padding=0)\n",
    "        self.bn3 = nn.BatchNorm2d(num_features=32)\n",
    "        \n",
    "        self.conv4 = nn.Conv2d(in_channels=32, out_channels=64, kernel_size=(3,3), stride=1, padding=0)\n",
    "        self.bn4 = nn.BatchNorm2d(num_features=64)\n",
    "        \n",
    "        self.flatten = nn.Flatten()\n",
    "        # 7*7*64 = 3136\n",
    "        self.dense1 = nn.Linear(in_features=3136, out_features=10)\n",
    "        self.out = nn.BatchNorm1d(num_features=10)\n",
    "        \n",
    "    def forward(self, x):\n",
    "        # activations = []\n",
    "        x = self.inp(x)\n",
    "        x = self.bn1(x)\n",
    "        x = self.relu(x)\n",
    "        x = self.max1(x)\n",
    "        # activations.append(x.clone().detach())\n",
    "        \n",
    "        x = self.conv2(x)\n",
    "        x = self.bn2(x)\n",
    "        x = self.relu(x)\n",
    "        \n",
    "        x = self.conv3(x)\n",
    "        x = self.bn3(x)\n",
    "        x = self.relu(x)\n",
    "        \n",
    "        x = self.conv4(x)\n",
    "        x = self.bn4(x)\n",
    "        x = self.relu(x)\n",
    "        \n",
    "        x = self.flatten(x)\n",
    "        \n",
    "        x = self.dense1(x)\n",
    "        out =self.out(x)\n",
    "        return F.softmax(out, dim=1)"
   ]
  },
  {
   "cell_type": "code",
   "execution_count": 8,
   "metadata": {},
   "outputs": [],
   "source": [
    "def train_one_epoch(dataloader, model, loss_fn, optimizer):\n",
    "    model.train()\n",
    "    track_loss = 0\n",
    "    num_correct = 0\n",
    "    for i, (imgs, labels) in enumerate(dataloader):\n",
    "        imgs = imgs.to(device)\n",
    "        labels = labels.to(device)\n",
    "        pred = model(imgs)\n",
    "        loss = loss_fn(pred, labels)\n",
    "        track_loss+=loss.item()\n",
    "        num_correct+=(torch.argmax(pred,dim=1)==labels).type(torch.float).sum().item()\n",
    "        loss.backward()\n",
    "        optimizer.step()\n",
    "        optimizer.zero_grad()\n",
    "        \n",
    "        if i%100==0:\n",
    "            running_loss = round(track_loss/(i+1),2)\n",
    "            running_acc = round((num_correct/((i+1)*batch_size))*100,2)\n",
    "            print(f\"Batch: {i+1}/{len(dataloader)}, Running Loss: {running_loss}, Running Accuracy: {running_acc}\")\n",
    "            \n",
    "            \n",
    "        \n",
    "    epoch_loss = track_loss/len(dataloader)#slightly inaccurate\n",
    "    epoch_acc = (num_correct/len(dataloader.dataset))*100\n",
    "    return round(epoch_loss, 2), round(epoch_acc, 2)\n",
    "\n",
    "def eval(dataloader, model, loss_fn):\n",
    "    model.eval()\n",
    "    # data = pd.read_csv(path)\n",
    "    track_loss = 0\n",
    "    num_correct = 0\n",
    "    with torch.no_grad():\n",
    "        for i, (imgs, labels) in enumerate(dataloader):\n",
    "            imgs = imgs.to(device)\n",
    "            labels = labels.to(device)\n",
    "            pred = model(imgs)\n",
    "            \n",
    "            loss = loss_fn(pred, labels)\n",
    "            track_loss+=loss.item()\n",
    "            num_correct+=(torch.argmax(pred,dim=1)==labels).type(torch.float).sum().item()\n",
    "            \n",
    "            if i%100==0:\n",
    "                running_loss = round(track_loss/(i+1),2)\n",
    "                running_acc = round((num_correct/((i+1)*batch_size))*100,2)\n",
    "                print(f\"Batch: {i+1}/{len(dataloader)}, Running Loss: {running_loss}, Running Accuracy: {running_acc}\")\n",
    "                \n",
    "    epoch_loss = track_loss/len(dataloader)#slightly inaccurate\n",
    "    epoch_acc = (num_correct/len(dataloader.dataset))*100\n",
    "    return round(epoch_loss, 2), round(epoch_acc, 2)"
   ]
  },
  {
   "cell_type": "code",
   "execution_count": 9,
   "metadata": {},
   "outputs": [],
   "source": [
    "model = CNN()\n",
    "model = model.to(device)\n",
    "loss_fn = nn.CrossEntropyLoss()\n",
    "lr = 0.001\n",
    "optimizer = optim.Adam(params=model.parameters(), lr=lr)\n",
    "EPOCHS = 1"
   ]
  },
  {
   "cell_type": "code",
   "execution_count": 10,
   "metadata": {},
   "outputs": [
    {
     "name": "stdout",
     "output_type": "stream",
     "text": [
      "EPOCH: 1\n",
      "Batch: 1/938, Running Loss: 2.33, Running Accuracy: 7.81\n",
      "Batch: 101/938, Running Loss: 1.83, Running Accuracy: 88.77\n",
      "Batch: 201/938, Running Loss: 1.78, Running Accuracy: 92.19\n",
      "Batch: 301/938, Running Loss: 1.75, Running Accuracy: 93.58\n",
      "Batch: 401/938, Running Loss: 1.72, Running Accuracy: 94.57\n",
      "Batch: 501/938, Running Loss: 1.7, Running Accuracy: 95.22\n",
      "Batch: 601/938, Running Loss: 1.69, Running Accuracy: 95.64\n",
      "Batch: 701/938, Running Loss: 1.67, Running Accuracy: 96.03\n",
      "Batch: 801/938, Running Loss: 1.66, Running Accuracy: 96.31\n",
      "Batch: 901/938, Running Loss: 1.65, Running Accuracy: 96.54\n",
      "Training===> Epoh Loss: 1.64, Epoch Accuracy: 96.6\n",
      "-----------------------------------------------------------------------------------------\n"
     ]
    }
   ],
   "source": [
    "# train\n",
    "for i in range(EPOCHS):\n",
    "    print(f\"EPOCH: {i+1}\")\n",
    "    train_epoch_loss, train_epoch_acc = train_one_epoch(trainDl, model, loss_fn, optimizer)\n",
    "    print(f\"Training===> Epoh Loss: {train_epoch_loss}, Epoch Accuracy: {train_epoch_acc}\")\n",
    "    print(\"-----------------------------------------------------------------------------------------\")"
   ]
  },
  {
   "cell_type": "code",
   "execution_count": 11,
   "metadata": {},
   "outputs": [
    {
     "name": "stdout",
     "output_type": "stream",
     "text": [
      "Batch: 1/157, Running Loss: 1.52, Running Accuracy: 98.44\n",
      "Batch: 101/157, Running Loss: 1.54, Running Accuracy: 98.61\n"
     ]
    },
    {
     "data": {
      "text/plain": [
       "(1.53, 98.93)"
      ]
     },
     "execution_count": 11,
     "metadata": {},
     "output_type": "execute_result"
    }
   ],
   "source": [
    "eval(testDl, model, loss_fn)"
   ]
  },
  {
   "cell_type": "code",
   "execution_count": 12,
   "metadata": {},
   "outputs": [],
   "source": [
    "torch.cuda.empty_cache()"
   ]
  },
  {
   "cell_type": "markdown",
   "metadata": {},
   "source": [
    "# Visualizing Data After Activations"
   ]
  },
  {
   "cell_type": "code",
   "execution_count": 13,
   "metadata": {},
   "outputs": [
    {
     "name": "stdout",
     "output_type": "stream",
     "text": [
      "CNN(\n",
      "  (relu): ReLU()\n",
      "  (inp): Conv2d(1, 8, kernel_size=(3, 3), stride=(1, 1))\n",
      "  (bn1): BatchNorm2d(8, eps=1e-05, momentum=0.1, affine=True, track_running_stats=True)\n",
      "  (max1): MaxPool2d(kernel_size=(2, 2), stride=2, padding=0, dilation=1, ceil_mode=False)\n",
      "  (conv2): Conv2d(8, 16, kernel_size=(3, 3), stride=(1, 1))\n",
      "  (bn2): BatchNorm2d(16, eps=1e-05, momentum=0.1, affine=True, track_running_stats=True)\n",
      "  (conv3): Conv2d(16, 32, kernel_size=(3, 3), stride=(1, 1))\n",
      "  (bn3): BatchNorm2d(32, eps=1e-05, momentum=0.1, affine=True, track_running_stats=True)\n",
      "  (conv4): Conv2d(32, 64, kernel_size=(3, 3), stride=(1, 1))\n",
      "  (bn4): BatchNorm2d(64, eps=1e-05, momentum=0.1, affine=True, track_running_stats=True)\n",
      "  (flatten): Flatten(start_dim=1, end_dim=-1)\n",
      "  (dense1): Linear(in_features=3136, out_features=10, bias=True)\n",
      "  (out): BatchNorm1d(10, eps=1e-05, momentum=0.1, affine=True, track_running_stats=True)\n",
      ")\n"
     ]
    }
   ],
   "source": [
    "print(model)"
   ]
  },
  {
   "cell_type": "code",
   "execution_count": 14,
   "metadata": {},
   "outputs": [
    {
     "name": "stdout",
     "output_type": "stream",
     "text": [
      "Total convolution layers: 4\n",
      "Conv2d(1, 8, kernel_size=(3, 3), stride=(1, 1))\n",
      "Conv2d(8, 16, kernel_size=(3, 3), stride=(1, 1))\n",
      "Conv2d(16, 32, kernel_size=(3, 3), stride=(1, 1))\n",
      "Conv2d(32, 64, kernel_size=(3, 3), stride=(1, 1))\n"
     ]
    }
   ],
   "source": [
    "# we will save the conv layer weights in this list\n",
    "model_weights =[]\n",
    "#we will save the 49 conv layers in this list\n",
    "conv_layers = []# get all the model children as list\n",
    "model_children = list(model.children())#counter to keep count of the conv layers\n",
    "counter = 0#append all the conv layers and their respective wights to the list\n",
    "for i in range(len(model_children)):\n",
    "    if type(model_children[i]) == nn.Conv2d:\n",
    "        counter+=1\n",
    "        model_weights.append(model_children[i].weight)\n",
    "        conv_layers.append(model_children[i])\n",
    "    elif type(model_children[i]) == nn.Sequential:\n",
    "        for j in range(len(model_children[i])):\n",
    "            for child in model_children[i][j].children():\n",
    "                if type(child) == nn.Conv2d:\n",
    "                    counter+=1\n",
    "                    model_weights.append(child.weight)\n",
    "                    conv_layers.append(child)\n",
    "print(f\"Total convolution layers: {counter}\")\n",
    "for l in conv_layers:\n",
    "    print(l)"
   ]
  },
  {
   "cell_type": "code",
   "execution_count": 15,
   "metadata": {},
   "outputs": [],
   "source": [
    "transform = transforms.Compose([\n",
    "    transforms.Resize((28,28)),\n",
    "    transforms.ToTensor(),\n",
    "    transforms.Normalize(mean=0., std=1.)\n",
    "])"
   ]
  },
  {
   "cell_type": "code",
   "execution_count": 22,
   "metadata": {},
   "outputs": [
    {
     "name": "stdout",
     "output_type": "stream",
     "text": [
      "Image shape before: torch.Size([1, 28, 28])\n",
      "Image shape after: torch.Size([1, 1, 28, 28])\n"
     ]
    }
   ],
   "source": [
    "image = test[2][0].view(28,28)\n",
    "image_np = image.numpy()\n",
    "image_pil = Image.fromarray(image_np)\n",
    "image = transform(image_pil)\n",
    "print(f\"Image shape before: {image.shape}\")\n",
    "image = image.unsqueeze(0)\n",
    "print(f\"Image shape after: {image.shape}\")\n",
    "image = image.to(device)"
   ]
  },
  {
   "cell_type": "code",
   "execution_count": 23,
   "metadata": {},
   "outputs": [
    {
     "name": "stdout",
     "output_type": "stream",
     "text": [
      "4\n",
      "torch.Size([1, 8, 26, 26])\n",
      "torch.Size([1, 16, 24, 24])\n",
      "torch.Size([1, 32, 22, 22])\n",
      "torch.Size([1, 64, 20, 20])\n"
     ]
    }
   ],
   "source": [
    "outputs = []\n",
    "names = []\n",
    "for layer in conv_layers[0:]:\n",
    "    image = layer(image)\n",
    "    outputs.append(image)\n",
    "    names.append(str(layer))\n",
    "print(len(outputs))#print feature_maps\n",
    "for feature_map in outputs:\n",
    "    print(feature_map.shape)"
   ]
  },
  {
   "cell_type": "code",
   "execution_count": 24,
   "metadata": {},
   "outputs": [
    {
     "name": "stdout",
     "output_type": "stream",
     "text": [
      "(26, 26)\n",
      "(24, 24)\n",
      "(22, 22)\n",
      "(20, 20)\n"
     ]
    }
   ],
   "source": [
    "processed = []\n",
    "for feature_map in outputs:\n",
    "    feature_map = feature_map.squeeze(0)\n",
    "    gray_scale = torch.sum(feature_map,0)\n",
    "    gray_scale = gray_scale / feature_map.shape[0]\n",
    "    processed.append(gray_scale.data.cpu().numpy())\n",
    "for fm in processed:\n",
    "    print(fm.shape)"
   ]
  },
  {
   "cell_type": "code",
   "execution_count": 25,
   "metadata": {},
   "outputs": [
    {
     "data": {
      "image/png": "[encoded data removed]",
      "text/plain": [
       "<Figure size 3000x5000 with 4 Axes>"
      ]
     },
     "metadata": {},
     "output_type": "display_data"
    }
   ],
   "source": [
    "fig = plt.figure(figsize=(30, 50))\n",
    "for i in range(len(processed)):\n",
    "    a = fig.add_subplot(5, 4, i+1)\n",
    "    imgplot = plt.imshow(processed[i], cmap='gray')\n",
    "    a.axis(\"off\")\n",
    "    a.set_title(names[i].split('(')[0], fontsize=30)\n",
    "plt.show(str('feature_maps.jpg'))"
   ]
  },
  {
   "cell_type": "code",
   "execution_count": 27,
   "metadata": {},
   "outputs": [
    {
     "data": {
      "image/png": "[encoded data removed]",
      "text/plain": [
       "<Figure size 640x480 with 1 Axes>"
      ]
     },
     "metadata": {},
     "output_type": "display_data"
    }
   ],
   "source": [
    "plt.imshow(test[2][0].view(28,28), cmap=\"gray\")\n",
    "plt.show()\n",
    "# print(test[1][1])"
   ]
  }
 ],
 "metadata": {
  "kernelspec": {
   "display_name": "Python 3",
   "language": "python",
   "name": "python3"
  },
  "language_info": {
   "codemirror_mode": {
    "name": "ipython",
    "version": 3
   },
   "file_extension": ".py",
   "mimetype": "text/x-python",
   "name": "python",
   "nbconvert_exporter": "python",
   "pygments_lexer": "ipython3",
   "version": "3.11.7"
  }
 },
 "nbformat": 4,
 "nbformat_minor": 2
}
