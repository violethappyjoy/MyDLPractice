{
 "cells": [
  {
   "cell_type": "code",
   "execution_count": 1,
   "metadata": {},
   "outputs": [],
   "source": [
    "import numpy as np\n",
    "from matplotlib import pyplot as plt\n",
    "from tqdm import tqdm\n",
    "\n",
    "import torch\n",
    "import torch.nn as nn\n",
    "from torch import optim\n",
    "from torch.utils.data import DataLoader, random_split\n",
    "from torchvision import datasets\n",
    "import torchvision.transforms as transforms"
   ]
  },
  {
   "cell_type": "code",
   "execution_count": 2,
   "metadata": {},
   "outputs": [],
   "source": [
    "torch.cuda.empty_cache()"
   ]
  },
  {
   "cell_type": "code",
   "execution_count": 3,
   "metadata": {},
   "outputs": [
    {
     "name": "stdout",
     "output_type": "stream",
     "text": [
      "Thu Mar 21 23:38:17 2024       \n",
      "+-----------------------------------------------------------------------------------------+\n",
      "| NVIDIA-SMI 550.54.14              Driver Version: 550.54.14      CUDA Version: 12.4     |\n",
      "|-----------------------------------------+------------------------+----------------------+\n",
      "| GPU  Name                 Persistence-M | Bus-Id          Disp.A | Volatile Uncorr. ECC |\n",
      "| Fan  Temp   Perf          Pwr:Usage/Cap |           Memory-Usage | GPU-Util  Compute M. |\n",
      "|                                         |                        |               MIG M. |\n",
      "|=========================================+========================+======================|\n",
      "|   0  NVIDIA GeForce RTX 2070 ...    Off |   00000000:0A:00.0  On |                  N/A |\n",
      "|  0%   46C    P5             23W /  215W |     709MiB /   8192MiB |     35%      Default |\n",
      "|                                         |                        |                  N/A |\n",
      "+-----------------------------------------+------------------------+----------------------+\n",
      "                                                                                         \n",
      "+-----------------------------------------------------------------------------------------+\n",
      "| Processes:                                                                              |\n",
      "|  GPU   GI   CI        PID   Type   Process name                              GPU Memory |\n",
      "|        ID   ID                                                               Usage      |\n",
      "|=========================================================================================|\n",
      "|    0   N/A  N/A       589      G   /usr/lib/Xorg                                  22MiB |\n",
      "|    0   N/A  N/A       649      G   Hyprland                                      183MiB |\n",
      "|    0   N/A  N/A    115565      G   /usr/lib/firefox/firefox                      330MiB |\n",
      "|    0   N/A  N/A    248625      G   Xwayland                                        3MiB |\n",
      "|    0   N/A  N/A    248653      G   ...ictureAPI --variations-seed-version         72MiB |\n",
      "|    0   N/A  N/A    250719      G   kitty                                          18MiB |\n",
      "+-----------------------------------------------------------------------------------------+\n"
     ]
    }
   ],
   "source": [
    "!nvidia-smi"
   ]
  },
  {
   "cell_type": "code",
   "execution_count": 4,
   "metadata": {},
   "outputs": [
    {
     "name": "stdout",
     "output_type": "stream",
     "text": [
      "cuda:0\n"
     ]
    }
   ],
   "source": [
    "if torch.cuda.is_available():\n",
    "    device=torch.device(type='cuda',index=0)\n",
    "else:\n",
    "    device=torch.device(type='cpu',index=0)\n",
    "print(device)"
   ]
  },
  {
   "cell_type": "code",
   "execution_count": 5,
   "metadata": {},
   "outputs": [
    {
     "name": "stdout",
     "output_type": "stream",
     "text": [
      "Downloading http://yann.lecun.com/exdb/mnist/train-images-idx3-ubyte.gz\n",
      "Downloading http://yann.lecun.com/exdb/mnist/train-images-idx3-ubyte.gz to MNIST/raw/train-images-idx3-ubyte.gz\n"
     ]
    },
    {
     "name": "stderr",
     "output_type": "stream",
     "text": [
      "100%|██████████| 9912422/9912422 [00:01<00:00, 5393936.30it/s]\n"
     ]
    },
    {
     "name": "stdout",
     "output_type": "stream",
     "text": [
      "Extracting MNIST/raw/train-images-idx3-ubyte.gz to MNIST/raw\n",
      "\n",
      "Downloading http://yann.lecun.com/exdb/mnist/train-labels-idx1-ubyte.gz\n",
      "Downloading http://yann.lecun.com/exdb/mnist/train-labels-idx1-ubyte.gz to MNIST/raw/train-labels-idx1-ubyte.gz\n"
     ]
    },
    {
     "name": "stderr",
     "output_type": "stream",
     "text": [
      "100%|██████████| 28881/28881 [00:00<00:00, 23086657.87it/s]\n"
     ]
    },
    {
     "name": "stdout",
     "output_type": "stream",
     "text": [
      "Extracting MNIST/raw/train-labels-idx1-ubyte.gz to MNIST/raw\n",
      "\n",
      "Downloading http://yann.lecun.com/exdb/mnist/t10k-images-idx3-ubyte.gz\n",
      "Downloading http://yann.lecun.com/exdb/mnist/t10k-images-idx3-ubyte.gz to MNIST/raw/t10k-images-idx3-ubyte.gz\n"
     ]
    },
    {
     "name": "stderr",
     "output_type": "stream",
     "text": [
      "100%|██████████| 1648877/1648877 [00:00<00:00, 2111904.41it/s]\n"
     ]
    },
    {
     "name": "stdout",
     "output_type": "stream",
     "text": [
      "Extracting MNIST/raw/t10k-images-idx3-ubyte.gz to MNIST/raw\n",
      "\n",
      "Downloading http://yann.lecun.com/exdb/mnist/t10k-labels-idx1-ubyte.gz\n",
      "Downloading http://yann.lecun.com/exdb/mnist/t10k-labels-idx1-ubyte.gz to MNIST/raw/t10k-labels-idx1-ubyte.gz\n"
     ]
    },
    {
     "name": "stderr",
     "output_type": "stream",
     "text": [
      "100%|██████████| 4542/4542 [00:00<00:00, 14498119.31it/s]"
     ]
    },
    {
     "name": "stdout",
     "output_type": "stream",
     "text": [
      "Extracting MNIST/raw/t10k-labels-idx1-ubyte.gz to MNIST/raw\n",
      "\n",
      "28\n",
      "10000\n"
     ]
    },
    {
     "name": "stderr",
     "output_type": "stream",
     "text": [
      "\n"
     ]
    }
   ],
   "source": [
    "train = datasets.MNIST(\"\", train = True, download = True,\n",
    "                       transform= transforms.Compose([transforms.ToTensor()]))\n",
    "test = datasets.MNIST(\"\", train = False, download = True,\n",
    "                       transform= transforms.Compose([transforms.ToTensor()]))\n",
    "print(len(train.data[0]))\n",
    "print(len(test.data))"
   ]
  },
  {
   "cell_type": "code",
   "execution_count": 6,
   "metadata": {},
   "outputs": [
    {
     "name": "stdout",
     "output_type": "stream",
     "text": [
      "Size of training set: 51000\n",
      "Size of validation set: 9000\n",
      "Size of test set: 10000\n"
     ]
    }
   ],
   "source": [
    "batch_size=128\n",
    "train_size = int(0.85 * len(train))\n",
    "val_size = len(train)-train_size\n",
    "\n",
    "train_set , val_set = random_split(train, [train_size, val_size])\n",
    "\n",
    "train_dl=DataLoader(\n",
    "    dataset=train_set,\n",
    "    batch_size=batch_size,\n",
    "    shuffle=True\n",
    ")\n",
    "\n",
    "valid_dl=DataLoader(\n",
    "    dataset=val_set,\n",
    "    batch_size=batch_size,\n",
    "    shuffle=False\n",
    ")\n",
    "\n",
    "test_dl=DataLoader(\n",
    "    dataset=test,\n",
    "    batch_size=batch_size,\n",
    "    shuffle=False\n",
    ")\n",
    "\n",
    "print(\"Size of training set:\", len(train_set))\n",
    "print(\"Size of validation set:\", len(val_set))\n",
    "print(\"Size of test set:\", len(test))"
   ]
  },
  {
   "cell_type": "code",
   "execution_count": 7,
   "metadata": {},
   "outputs": [],
   "source": [
    "class AutoencoderStk1(nn.Module):\n",
    "  def __init__(self):\n",
    "    super(AutoencoderStk1, self).__init__()\n",
    "\n",
    "    # self.flat = nn.Flatten()\n",
    "    self.encoder = nn.Sequential(\n",
    "        nn.Flatten(),\n",
    "        nn.Linear(in_features=784, out_features=393),\n",
    "        nn.BatchNorm1d(num_features=393),\n",
    "        nn.ReLU(True),\n",
    "        nn.Linear(in_features=393, out_features=100),\n",
    "        nn.BatchNorm1d(num_features=100),\n",
    "        nn.ReLU(True)\n",
    "    )\n",
    "    self.decoder = nn.Sequential(\n",
    "        nn.Linear(in_features=100, out_features=393),\n",
    "        nn.BatchNorm1d(num_features=393),\n",
    "        nn.ReLU(True),\n",
    "        nn.Linear(in_features=393, out_features=784),\n",
    "        nn.BatchNorm1d(num_features=784),\n",
    "        nn.Sigmoid()\n",
    "    )\n",
    "\n",
    "  def forward(self, x):\n",
    "    # x = self.flat(x)\n",
    "    # print(x.shape)\n",
    "    latent = self.encoder(x)\n",
    "    out = self.decoder(latent)\n",
    "    return out"
   ]
  },
  {
   "cell_type": "code",
   "execution_count": 8,
   "metadata": {},
   "outputs": [
    {
     "name": "stdout",
     "output_type": "stream",
     "text": [
      "AutoencoderStk1(\n",
      "  (encoder): Sequential(\n",
      "    (0): Flatten(start_dim=1, end_dim=-1)\n",
      "    (1): Linear(in_features=784, out_features=393, bias=True)\n",
      "    (2): BatchNorm1d(393, eps=1e-05, momentum=0.1, affine=True, track_running_stats=True)\n",
      "    (3): ReLU(inplace=True)\n",
      "    (4): Linear(in_features=393, out_features=100, bias=True)\n",
      "    (5): BatchNorm1d(100, eps=1e-05, momentum=0.1, affine=True, track_running_stats=True)\n",
      "    (6): ReLU(inplace=True)\n",
      "  )\n",
      "  (decoder): Sequential(\n",
      "    (0): Linear(in_features=100, out_features=393, bias=True)\n",
      "    (1): BatchNorm1d(393, eps=1e-05, momentum=0.1, affine=True, track_running_stats=True)\n",
      "    (2): ReLU(inplace=True)\n",
      "    (3): Linear(in_features=393, out_features=784, bias=True)\n",
      "    (4): BatchNorm1d(784, eps=1e-05, momentum=0.1, affine=True, track_running_stats=True)\n",
      "    (5): Sigmoid()\n",
      "  )\n",
      ")\n"
     ]
    }
   ],
   "source": [
    "EPOCHS = 10\n",
    "PRINT_AT = 100\n",
    "\n",
    "model = AutoencoderStk1().to(device)\n",
    "print(model)\n",
    "loss_fn = nn.MSELoss()\n",
    "optimizer = optim.Adam(model.parameters())"
   ]
  },
  {
   "cell_type": "code",
   "execution_count": 9,
   "metadata": {},
   "outputs": [
    {
     "name": "stdout",
     "output_type": "stream",
     "text": [
      "-x-x-x-x-x-x-x-x-x-x-x-EPOCH 1-x-x-x-x-x-x-x-x-x-x-x-\n",
      "TRAINING\n",
      "[1,   100] loss: 0.187\n",
      "[1,   200] loss: 0.154\n",
      "[1,   300] loss: 0.137\n",
      "VALIDATING\n",
      "[1,    50] valid-loss: 0.058\n",
      "Epoch [1/10], Training Loss: 0.0304, Validation Loss: 0.0341\n",
      "-x-x-x-x-x-x-x-x-x-x-x-EPOCH 2-x-x-x-x-x-x-x-x-x-x-x-\n",
      "TRAINING\n",
      "[2,   100] loss: 0.110\n",
      "[2,   200] loss: 0.098\n",
      "[2,   300] loss: 0.091\n",
      "VALIDATING\n",
      "[2,    50] valid-loss: 0.036\n",
      "Epoch [2/10], Training Loss: 0.0202, Validation Loss: 0.0211\n",
      "-x-x-x-x-x-x-x-x-x-x-x-EPOCH 3-x-x-x-x-x-x-x-x-x-x-x-\n",
      "TRAINING\n",
      "[3,   100] loss: 0.074\n",
      "[3,   200] loss: 0.069\n",
      "[3,   300] loss: 0.064\n",
      "VALIDATING\n",
      "[3,    50] valid-loss: 0.028\n",
      "Epoch [3/10], Training Loss: 0.0144, Validation Loss: 0.0160\n",
      "-x-x-x-x-x-x-x-x-x-x-x-EPOCH 4-x-x-x-x-x-x-x-x-x-x-x-\n",
      "TRAINING\n",
      "[4,   100] loss: 0.054\n",
      "[4,   200] loss: 0.051\n",
      "[4,   300] loss: 0.046\n",
      "VALIDATING\n",
      "[4,    50] valid-loss: 0.021\n",
      "Epoch [4/10], Training Loss: 0.0107, Validation Loss: 0.0120\n",
      "-x-x-x-x-x-x-x-x-x-x-x-EPOCH 5-x-x-x-x-x-x-x-x-x-x-x-\n",
      "TRAINING\n",
      "[5,   100] loss: 0.040\n",
      "[5,   200] loss: 0.039\n",
      "[5,   300] loss: 0.037\n",
      "VALIDATING\n",
      "[5,    50] valid-loss: 0.015\n",
      "Epoch [5/10], Training Loss: 0.0084, Validation Loss: 0.0085\n",
      "-x-x-x-x-x-x-x-x-x-x-x-EPOCH 6-x-x-x-x-x-x-x-x-x-x-x-\n",
      "TRAINING\n",
      "[6,   100] loss: 0.034\n",
      "[6,   200] loss: 0.030\n",
      "[6,   300] loss: 0.030\n",
      "VALIDATING\n",
      "[6,    50] valid-loss: 0.013\n",
      "Epoch [6/10], Training Loss: 0.0072, Validation Loss: 0.0072\n",
      "-x-x-x-x-x-x-x-x-x-x-x-EPOCH 7-x-x-x-x-x-x-x-x-x-x-x-\n",
      "TRAINING\n",
      "[7,   100] loss: 0.028\n",
      "[7,   200] loss: 0.026\n",
      "[7,   300] loss: 0.028\n",
      "VALIDATING\n",
      "[7,    50] valid-loss: 0.012\n",
      "Epoch [7/10], Training Loss: 0.0067, Validation Loss: 0.0067\n",
      "-x-x-x-x-x-x-x-x-x-x-x-EPOCH 8-x-x-x-x-x-x-x-x-x-x-x-\n",
      "TRAINING\n",
      "[8,   100] loss: 0.024\n",
      "[8,   200] loss: 0.022\n",
      "[8,   300] loss: 0.022\n",
      "VALIDATING\n",
      "[8,    50] valid-loss: 0.009\n",
      "Epoch [8/10], Training Loss: 0.0052, Validation Loss: 0.0048\n",
      "-x-x-x-x-x-x-x-x-x-x-x-EPOCH 9-x-x-x-x-x-x-x-x-x-x-x-\n",
      "TRAINING\n",
      "[9,   100] loss: 0.020\n",
      "[9,   200] loss: 0.019\n",
      "[9,   300] loss: 0.019\n",
      "VALIDATING\n",
      "[9,    50] valid-loss: 0.008\n",
      "Epoch [9/10], Training Loss: 0.0044, Validation Loss: 0.0047\n",
      "-x-x-x-x-x-x-x-x-x-x-x-EPOCH 10-x-x-x-x-x-x-x-x-x-x-x-\n",
      "TRAINING\n",
      "[10,   100] loss: 0.017\n",
      "[10,   200] loss: 0.017\n",
      "[10,   300] loss: 0.017\n",
      "VALIDATING\n",
      "[10,    50] valid-loss: 0.007\n",
      "Epoch [10/10], Training Loss: 0.0044, Validation Loss: 0.0042\n",
      "DONE!\n"
     ]
    }
   ],
   "source": [
    "epoch_losses = []\n",
    "for epoch in range(EPOCHS):\n",
    "    print(f\"-x-x-x-x-x-x-x-x-x-x-x-EPOCH {epoch+1}-x-x-x-x-x-x-x-x-x-x-x-\")\n",
    "    print(\"TRAINING\")\n",
    "    model.train()\n",
    "    running_loss = 0.0\n",
    "    for i, (imgs, _) in enumerate(train_dl):\n",
    "        imgsT = torch.reshape(imgs,shape=[-1,784]).to(device)\n",
    "        # print(imgsT.shape)\n",
    "        predT = model(imgsT)\n",
    "        pred = predT.view(-1, 1, 28, 28).cpu()\n",
    "        loss = loss_fn(pred, imgs)\n",
    "\n",
    "        loss.backward()\n",
    "        optimizer.step()\n",
    "        optimizer.zero_grad()\n",
    "\n",
    "        running_loss += loss.item()\n",
    "        if i % PRINT_AT == PRINT_AT-1:\n",
    "            print('[%d, %5d] loss: %.3f' %(epoch + 1, i + 1, running_loss / PRINT_AT))\n",
    "            running_loss = 0.0\n",
    "      \n",
    "    print(\"VALIDATING\")\n",
    "    model.eval()\n",
    "    val_loss = 0.0\n",
    "    with torch.no_grad():\n",
    "        for i, (imgs, _) in enumerate(valid_dl):\n",
    "            imgsT = torch.reshape(imgs,shape=[-1,784]).to(device)\n",
    "            predT = model(imgsT)\n",
    "            pred = predT.view(-1, 1, 28, 28).cpu()\n",
    "            loss = loss_fn(pred, imgs)\n",
    "            \n",
    "            val_loss += loss.item()\n",
    "            \n",
    "            if i % PRINT_AT == (PRINT_AT/2)-1:\n",
    "                print('[%d, %5d] valid-loss: %.3f' %(epoch + 1, i + 1, val_loss / PRINT_AT))\n",
    "                val_loss = 0.0                \n",
    "    val_loss /= len(valid_dl)\n",
    "    \n",
    "    epoch_loss = running_loss / len(train_dl)\n",
    "    epoch_losses.append(epoch_loss)\n",
    "    print('Epoch [%d/%d], Training Loss: %.4f, Validation Loss: %.4f' % (epoch+1, EPOCHS, epoch_loss, val_loss))\n",
    "\n",
    "print(\"DONE!\")"
   ]
  },
  {
   "cell_type": "code",
   "execution_count": 10,
   "metadata": {},
   "outputs": [],
   "source": [
    "# img, _ = next(iter(test_dl))\n",
    "# img = img.to(device)\n",
    "# print(img.shape)\n",
    "# encoder1 = model.encoder\n",
    "# # print(encoder1)\n",
    "# latent = encoder1(img)\n",
    "# print(latent.shape)"
   ]
  },
  {
   "cell_type": "code",
   "execution_count": 11,
   "metadata": {},
   "outputs": [],
   "source": [
    "class AutoencoderStk2(nn.Module):\n",
    "    def __init__(self):\n",
    "        super(AutoencoderStk2, self).__init__()\n",
    "        self.encoder = nn.Sequential(\n",
    "            nn.Linear(in_features=100, out_features=75),\n",
    "            nn.BatchNorm1d(num_features=75),\n",
    "            nn.ReLU(True),\n",
    "            nn.Linear(in_features=75, out_features=50),\n",
    "            nn.BatchNorm1d(num_features=50),\n",
    "            nn.ReLU(True)\n",
    "        )\n",
    "        self.decoder = nn.Sequential(\n",
    "            nn.Linear(in_features=50, out_features=75),\n",
    "            nn.BatchNorm1d(num_features=75),\n",
    "            nn.ReLU(True),\n",
    "            nn.Linear(in_features=75, out_features=100),\n",
    "            nn.BatchNorm1d(num_features=100),\n",
    "            nn.ReLU(True)\n",
    "        )\n",
    "        \n",
    "    def forward(self, x):\n",
    "        latent = self.encoder(x)\n",
    "        out = self.decoder(latent)\n",
    "        return out"
   ]
  },
  {
   "cell_type": "code",
   "execution_count": 12,
   "metadata": {},
   "outputs": [
    {
     "name": "stdout",
     "output_type": "stream",
     "text": [
      "AutoencoderStk2(\n",
      "  (encoder): Sequential(\n",
      "    (0): Linear(in_features=100, out_features=75, bias=True)\n",
      "    (1): BatchNorm1d(75, eps=1e-05, momentum=0.1, affine=True, track_running_stats=True)\n",
      "    (2): ReLU(inplace=True)\n",
      "    (3): Linear(in_features=75, out_features=50, bias=True)\n",
      "    (4): BatchNorm1d(50, eps=1e-05, momentum=0.1, affine=True, track_running_stats=True)\n",
      "    (5): ReLU(inplace=True)\n",
      "  )\n",
      "  (decoder): Sequential(\n",
      "    (0): Linear(in_features=50, out_features=75, bias=True)\n",
      "    (1): BatchNorm1d(75, eps=1e-05, momentum=0.1, affine=True, track_running_stats=True)\n",
      "    (2): ReLU(inplace=True)\n",
      "    (3): Linear(in_features=75, out_features=100, bias=True)\n",
      "    (4): BatchNorm1d(100, eps=1e-05, momentum=0.1, affine=True, track_running_stats=True)\n",
      "    (5): ReLU(inplace=True)\n",
      "  )\n",
      ")\n"
     ]
    }
   ],
   "source": [
    "encoder1 = model.encoder\n",
    "for param in encoder1.parameters():\n",
    "    param.requires_grad = False\n",
    "model1 = AutoencoderStk2().to(device)\n",
    "print(model1)\n",
    "optimizer1 = optim.Adam(model1.parameters())"
   ]
  },
  {
   "cell_type": "code",
   "execution_count": 13,
   "metadata": {},
   "outputs": [
    {
     "name": "stdout",
     "output_type": "stream",
     "text": [
      "-x-x-x-x-x-x-x-x-x-x-x-EPOCH 1-x-x-x-x-x-x-x-x-x-x-x-\n",
      "TRAINING\n",
      "[1,   100] loss: 0.448\n",
      "[1,   200] loss: 0.264\n",
      "[1,   300] loss: 0.203\n",
      "VALIDATING\n",
      "[1,    50] valid-loss: 0.081\n",
      "Epoch [1/10], Training Loss: 0.0413, Validation Loss: 0.0474\n",
      "-x-x-x-x-x-x-x-x-x-x-x-EPOCH 2-x-x-x-x-x-x-x-x-x-x-x-\n",
      "TRAINING\n",
      "[2,   100] loss: 0.140\n",
      "[2,   200] loss: 0.122\n",
      "[2,   300] loss: 0.107\n",
      "VALIDATING\n",
      "[2,    50] valid-loss: 0.052\n",
      "Epoch [2/10], Training Loss: 0.0237, Validation Loss: 0.0303\n",
      "-x-x-x-x-x-x-x-x-x-x-x-EPOCH 3-x-x-x-x-x-x-x-x-x-x-x-\n",
      "TRAINING\n",
      "[3,   100] loss: 0.086\n",
      "[3,   200] loss: 0.079\n",
      "[3,   300] loss: 0.076\n",
      "VALIDATING\n",
      "[3,    50] valid-loss: 0.042\n",
      "Epoch [3/10], Training Loss: 0.0175, Validation Loss: 0.0243\n",
      "-x-x-x-x-x-x-x-x-x-x-x-EPOCH 4-x-x-x-x-x-x-x-x-x-x-x-\n",
      "TRAINING\n",
      "[4,   100] loss: 0.066\n",
      "[4,   200] loss: 0.062\n",
      "[4,   300] loss: 0.059\n",
      "VALIDATING\n",
      "[4,    50] valid-loss: 0.037\n",
      "Epoch [4/10], Training Loss: 0.0138, Validation Loss: 0.0213\n",
      "-x-x-x-x-x-x-x-x-x-x-x-EPOCH 5-x-x-x-x-x-x-x-x-x-x-x-\n",
      "TRAINING\n",
      "[5,   100] loss: 0.053\n",
      "[5,   200] loss: 0.051\n",
      "[5,   300] loss: 0.048\n",
      "VALIDATING\n",
      "[5,    50] valid-loss: 0.037\n",
      "Epoch [5/10], Training Loss: 0.0118, Validation Loss: 0.0207\n",
      "-x-x-x-x-x-x-x-x-x-x-x-EPOCH 6-x-x-x-x-x-x-x-x-x-x-x-\n",
      "TRAINING\n",
      "[6,   100] loss: 0.045\n",
      "[6,   200] loss: 0.045\n",
      "[6,   300] loss: 0.043\n",
      "VALIDATING\n",
      "[6,    50] valid-loss: 0.034\n",
      "Epoch [6/10], Training Loss: 0.0104, Validation Loss: 0.0190\n",
      "-x-x-x-x-x-x-x-x-x-x-x-EPOCH 7-x-x-x-x-x-x-x-x-x-x-x-\n",
      "TRAINING\n",
      "[7,   100] loss: 0.041\n",
      "[7,   200] loss: 0.040\n",
      "[7,   300] loss: 0.039\n",
      "VALIDATING\n",
      "[7,    50] valid-loss: 0.030\n",
      "Epoch [7/10], Training Loss: 0.0092, Validation Loss: 0.0169\n",
      "-x-x-x-x-x-x-x-x-x-x-x-EPOCH 8-x-x-x-x-x-x-x-x-x-x-x-\n",
      "TRAINING\n",
      "[8,   100] loss: 0.037\n",
      "[8,   200] loss: 0.037\n",
      "[8,   300] loss: 0.036\n",
      "VALIDATING\n",
      "[8,    50] valid-loss: 0.033\n",
      "Epoch [8/10], Training Loss: 0.0087, Validation Loss: 0.0186\n",
      "-x-x-x-x-x-x-x-x-x-x-x-EPOCH 9-x-x-x-x-x-x-x-x-x-x-x-\n",
      "TRAINING\n",
      "[9,   100] loss: 0.035\n",
      "[9,   200] loss: 0.034\n",
      "[9,   300] loss: 0.033\n",
      "VALIDATING\n",
      "[9,    50] valid-loss: 0.029\n",
      "Epoch [9/10], Training Loss: 0.0082, Validation Loss: 0.0161\n",
      "-x-x-x-x-x-x-x-x-x-x-x-EPOCH 10-x-x-x-x-x-x-x-x-x-x-x-\n",
      "TRAINING\n",
      "[10,   100] loss: 0.034\n",
      "[10,   200] loss: 0.033\n",
      "[10,   300] loss: 0.032\n",
      "VALIDATING\n",
      "[10,    50] valid-loss: 0.026\n",
      "Epoch [10/10], Training Loss: 0.0079, Validation Loss: 0.0150\n",
      "DONE!\n"
     ]
    }
   ],
   "source": [
    "epoch_losses = []\n",
    "for epoch in range(EPOCHS):\n",
    "    print(f\"-x-x-x-x-x-x-x-x-x-x-x-EPOCH {epoch+1}-x-x-x-x-x-x-x-x-x-x-x-\")\n",
    "    print(\"TRAINING\")\n",
    "    model.train()\n",
    "    running_loss = 0.0\n",
    "    for i, (imgs, _) in enumerate(train_dl):\n",
    "        imgs = imgs.to(device)\n",
    "        latent1 = encoder1(imgs)\n",
    "        # latent1.to(device)\n",
    "        # print(latent1.shape)\n",
    "        pred = model1(latent1)\n",
    "        # print(pred.shape)\n",
    "        loss = loss_fn(pred, latent1)\n",
    "        \n",
    "        loss.backward()\n",
    "        optimizer1.step()\n",
    "        optimizer1.zero_grad()\n",
    "        \n",
    "        running_loss += loss.item()\n",
    "        if i % PRINT_AT == PRINT_AT-1:\n",
    "            print('[%d, %5d] loss: %.3f' %(epoch + 1, i + 1, running_loss / PRINT_AT))\n",
    "            running_loss = 0.0\n",
    "        \n",
    "    print(\"VALIDATING\")\n",
    "    model.eval()\n",
    "    val_loss = 0.0\n",
    "    with torch.no_grad():\n",
    "        for i, (imgs, _) in enumerate(valid_dl):\n",
    "            imgs = imgs.to(device)\n",
    "            latent1 = encoder1(imgs)\n",
    "            latent1.to(device)\n",
    "            pred = model1(latent1)\n",
    "            loss = loss_fn(pred, latent1)\n",
    "            \n",
    "            val_loss += loss.item()\n",
    "            \n",
    "            if i % PRINT_AT == (PRINT_AT/2)-1:\n",
    "                print('[%d, %5d] valid-loss: %.3f' %(epoch + 1, i + 1, val_loss / PRINT_AT))\n",
    "                val_loss = 0.0\n",
    "    val_loss /= len(valid_dl)\n",
    "    \n",
    "    epoch_loss = running_loss / len(train_dl)\n",
    "    epoch_losses.append(epoch_loss)\n",
    "    print('Epoch [%d/%d], Training Loss: %.4f, Validation Loss: %.4f' % (epoch+1, EPOCHS, epoch_loss, val_loss))\n",
    "    \n",
    "print(\"DONE!\")"
   ]
  },
  {
   "cell_type": "code",
   "execution_count": 14,
   "metadata": {},
   "outputs": [
    {
     "name": "stdout",
     "output_type": "stream",
     "text": [
      "torch.Size([128, 1, 28, 28])\n"
     ]
    }
   ],
   "source": [
    "img, _ = next(iter(test_dl))\n",
    "img = img.to(device)\n",
    "# pred = encoder1(img)\n",
    "# pred = model1.encoder(pred)\n",
    "# print(pred.shape)\n",
    "print(img.shape)"
   ]
  },
  {
   "cell_type": "code",
   "execution_count": 15,
   "metadata": {},
   "outputs": [
    {
     "data": {
      "image/png": "[encoded data removed]",
      "text/plain": [
       "<Figure size 1000x1000 with 10 Axes>"
      ]
     },
     "metadata": {},
     "output_type": "display_data"
    }
   ],
   "source": [
    "original_images = img.view(-1, 28, 28)\n",
    "\n",
    "num_images = min(5, original_images.size(0)) \n",
    "\n",
    "fig, axes = plt.subplots(num_images, 2, figsize=(10, 10))\n",
    "\n",
    "for i in range(num_images):\n",
    "    # Plot original image\n",
    "    axes[i, 0].imshow(original_images[i].squeeze().cpu().numpy(), cmap='gray')\n",
    "    axes[i, 0].set_title('Original Image')\n",
    "    axes[i, 0].axis('off')\n",
    "\n",
    "    # Plot predicted image\n",
    "    with torch.no_grad():\n",
    "        predicted_output = encoder1(img)\n",
    "        # print(predicted_output.shape)\n",
    "        predicted_output = model1(predicted_output)\n",
    "        # print(predicted_output.shape)\n",
    "        predicted_output = model.decoder(predicted_output)\n",
    "        predicted_image = predicted_output.view(-1, 28, 28)\n",
    "    axes[i, 1].imshow(predicted_image[i].squeeze().cpu().numpy(), cmap='gray')\n",
    "    axes[i, 1].set_title('Predicted Image')\n",
    "    axes[i, 1].axis('off')\n",
    "\n",
    "plt.tight_layout()\n",
    "plt.show()"
   ]
  },
  {
   "cell_type": "code",
   "execution_count": 16,
   "metadata": {},
   "outputs": [],
   "source": [
    "class Classifier(nn.Module):\n",
    "    def __init__(self):\n",
    "        super(Classifier, self).__init__()\n",
    "        self.dense = nn.Linear(in_features=50, out_features=10)\n",
    "        self.softmax = nn.Softmax(dim=1)\n",
    "        \n",
    "    def forward(self, x):\n",
    "        x = self.dense(x)\n",
    "        return self.softmax(x)"
   ]
  },
  {
   "cell_type": "code",
   "execution_count": 17,
   "metadata": {},
   "outputs": [
    {
     "name": "stdout",
     "output_type": "stream",
     "text": [
      "Classifier(\n",
      "  (dense): Linear(in_features=50, out_features=10, bias=True)\n",
      "  (softmax): Softmax(dim=1)\n",
      ")\n"
     ]
    }
   ],
   "source": [
    "encoder2 = model1.encoder\n",
    "for param in encoder2.parameters():\n",
    "    param.requires_grad = False\n",
    "model2 = Classifier().to(device)\n",
    "print(model2)\n",
    "loss_fn1 = nn.CrossEntropyLoss()\n",
    "optimizer2 = optim.Adam(model2.parameters())"
   ]
  },
  {
   "cell_type": "code",
   "execution_count": 18,
   "metadata": {},
   "outputs": [
    {
     "name": "stdout",
     "output_type": "stream",
     "text": [
      "-x-x-x-x-x-x-x-x-x-x-x-EPOCH 1-x-x-x-x-x-x-x-x-x-x-x-\n",
      "TRAINING\n",
      "Batch: 1 / 399 Running Loss: 2.31 Running Accuracy: 4.69\n",
      "Batch: 101 / 399 Running Loss: 2.24 Running Accuracy: 25.92\n",
      "Batch: 201 / 399 Running Loss: 2.2 Running Accuracy: 31.69\n",
      "Batch: 301 / 399 Running Loss: 2.17 Running Accuracy: 36.96\n",
      "Training: Epoch Loss: 2.1422 Epoch Accuracy: 41.9373\n",
      "VALIDATING\n",
      "Batch: 1 / 71 Running Loss: 1.98 Running Accuracy: 66.41\n",
      "Validating: Epoch Loss: 2.0257 Epoch Accuracy: 60.2889\n",
      "-x-x-x-x-x-x-x-x-x-x-x-EPOCH 2-x-x-x-x-x-x-x-x-x-x-x-\n",
      "TRAINING\n",
      "Batch: 1 / 399 Running Loss: 2.06 Running Accuracy: 57.03\n",
      "Batch: 101 / 399 Running Loss: 2.02 Running Accuracy: 60.71\n",
      "Batch: 201 / 399 Running Loss: 2.01 Running Accuracy: 61.26\n",
      "Batch: 301 / 399 Running Loss: 1.99 Running Accuracy: 61.57\n",
      "Training: Epoch Loss: 1.983 Epoch Accuracy: 61.7725\n",
      "VALIDATING\n",
      "Batch: 1 / 71 Running Loss: 1.88 Running Accuracy: 69.53\n",
      "Validating: Epoch Loss: 1.93 Epoch Accuracy: 63.4222\n",
      "-x-x-x-x-x-x-x-x-x-x-x-EPOCH 3-x-x-x-x-x-x-x-x-x-x-x-\n",
      "TRAINING\n",
      "Batch: 1 / 399 Running Loss: 1.95 Running Accuracy: 64.06\n",
      "Batch: 101 / 399 Running Loss: 1.93 Running Accuracy: 65.38\n",
      "Batch: 201 / 399 Running Loss: 1.92 Running Accuracy: 67.01\n",
      "Batch: 301 / 399 Running Loss: 1.91 Running Accuracy: 68.08\n",
      "Training: Epoch Loss: 1.8975 Epoch Accuracy: 68.7059\n",
      "VALIDATING\n",
      "Batch: 1 / 71 Running Loss: 1.78 Running Accuracy: 79.69\n",
      "Validating: Epoch Loss: 1.8632 Epoch Accuracy: 70.1\n",
      "-x-x-x-x-x-x-x-x-x-x-x-EPOCH 4-x-x-x-x-x-x-x-x-x-x-x-\n",
      "TRAINING\n",
      "Batch: 1 / 399 Running Loss: 1.83 Running Accuracy: 75.0\n",
      "Batch: 101 / 399 Running Loss: 1.86 Running Accuracy: 70.69\n",
      "Batch: 201 / 399 Running Loss: 1.86 Running Accuracy: 70.67\n",
      "Batch: 301 / 399 Running Loss: 1.85 Running Accuracy: 70.62\n",
      "Training: Epoch Loss: 1.8489 Epoch Accuracy: 70.8784\n",
      "VALIDATING\n",
      "Batch: 1 / 71 Running Loss: 1.75 Running Accuracy: 78.91\n",
      "Validating: Epoch Loss: 1.8333 Epoch Accuracy: 71.0778\n",
      "-x-x-x-x-x-x-x-x-x-x-x-EPOCH 5-x-x-x-x-x-x-x-x-x-x-x-\n",
      "TRAINING\n",
      "Batch: 1 / 399 Running Loss: 1.83 Running Accuracy: 72.66\n",
      "Batch: 101 / 399 Running Loss: 1.83 Running Accuracy: 71.52\n",
      "Batch: 201 / 399 Running Loss: 1.83 Running Accuracy: 71.45\n",
      "Batch: 301 / 399 Running Loss: 1.82 Running Accuracy: 71.59\n",
      "Training: Epoch Loss: 1.8235 Epoch Accuracy: 71.5275\n",
      "VALIDATING\n",
      "Batch: 1 / 71 Running Loss: 1.73 Running Accuracy: 80.47\n",
      "Validating: Epoch Loss: 1.8083 Epoch Accuracy: 71.6889\n",
      "-x-x-x-x-x-x-x-x-x-x-x-EPOCH 6-x-x-x-x-x-x-x-x-x-x-x-\n",
      "TRAINING\n",
      "Batch: 1 / 399 Running Loss: 1.74 Running Accuracy: 77.34\n",
      "Batch: 101 / 399 Running Loss: 1.81 Running Accuracy: 71.24\n",
      "Batch: 201 / 399 Running Loss: 1.81 Running Accuracy: 71.93\n",
      "Batch: 301 / 399 Running Loss: 1.81 Running Accuracy: 71.88\n",
      "Training: Epoch Loss: 1.8066 Epoch Accuracy: 71.9745\n",
      "VALIDATING\n",
      "Batch: 1 / 71 Running Loss: 1.71 Running Accuracy: 80.47\n",
      "Validating: Epoch Loss: 1.7921 Epoch Accuracy: 72.1444\n",
      "-x-x-x-x-x-x-x-x-x-x-x-EPOCH 7-x-x-x-x-x-x-x-x-x-x-x-\n",
      "TRAINING\n",
      "Batch: 1 / 399 Running Loss: 1.83 Running Accuracy: 71.09\n",
      "Batch: 101 / 399 Running Loss: 1.8 Running Accuracy: 72.38\n",
      "Batch: 201 / 399 Running Loss: 1.79 Running Accuracy: 72.53\n",
      "Batch: 301 / 399 Running Loss: 1.79 Running Accuracy: 72.43\n",
      "Training: Epoch Loss: 1.7943 Epoch Accuracy: 72.2961\n",
      "VALIDATING\n",
      "Batch: 1 / 71 Running Loss: 1.71 Running Accuracy: 79.69\n",
      "Validating: Epoch Loss: 1.7921 Epoch Accuracy: 72.4778\n",
      "-x-x-x-x-x-x-x-x-x-x-x-EPOCH 8-x-x-x-x-x-x-x-x-x-x-x-\n",
      "TRAINING\n",
      "Batch: 1 / 399 Running Loss: 1.78 Running Accuracy: 74.22\n",
      "Batch: 101 / 399 Running Loss: 1.79 Running Accuracy: 72.72\n",
      "Batch: 201 / 399 Running Loss: 1.79 Running Accuracy: 72.65\n",
      "Batch: 301 / 399 Running Loss: 1.78 Running Accuracy: 72.76\n",
      "Training: Epoch Loss: 1.785 Epoch Accuracy: 72.5549\n",
      "VALIDATING\n",
      "Batch: 1 / 71 Running Loss: 1.7 Running Accuracy: 80.47\n",
      "Validating: Epoch Loss: 1.7794 Epoch Accuracy: 72.8667\n",
      "-x-x-x-x-x-x-x-x-x-x-x-EPOCH 9-x-x-x-x-x-x-x-x-x-x-x-\n",
      "TRAINING\n",
      "Batch: 1 / 399 Running Loss: 1.74 Running Accuracy: 78.91\n",
      "Batch: 101 / 399 Running Loss: 1.78 Running Accuracy: 72.8\n",
      "Batch: 201 / 399 Running Loss: 1.78 Running Accuracy: 73.11\n",
      "Batch: 301 / 399 Running Loss: 1.78 Running Accuracy: 72.91\n",
      "Training: Epoch Loss: 1.7769 Epoch Accuracy: 72.9216\n",
      "VALIDATING\n",
      "Batch: 1 / 71 Running Loss: 1.7 Running Accuracy: 80.47\n",
      "Validating: Epoch Loss: 1.7761 Epoch Accuracy: 72.9889\n",
      "-x-x-x-x-x-x-x-x-x-x-x-EPOCH 10-x-x-x-x-x-x-x-x-x-x-x-\n",
      "TRAINING\n",
      "Batch: 1 / 399 Running Loss: 1.73 Running Accuracy: 78.12\n",
      "Batch: 101 / 399 Running Loss: 1.77 Running Accuracy: 73.47\n",
      "Batch: 201 / 399 Running Loss: 1.77 Running Accuracy: 73.15\n",
      "Batch: 301 / 399 Running Loss: 1.77 Running Accuracy: 73.69\n",
      "Training: Epoch Loss: 1.7664 Epoch Accuracy: 74.2176\n",
      "VALIDATING\n",
      "Batch: 1 / 71 Running Loss: 1.69 Running Accuracy: 82.03\n",
      "Validating: Epoch Loss: 1.753 Epoch Accuracy: 77.0556\n",
      "Done!\n"
     ]
    }
   ],
   "source": [
    "epoch_losses = []\n",
    "for epoch in range(EPOCHS):\n",
    "    print(f\"-x-x-x-x-x-x-x-x-x-x-x-EPOCH {epoch+1}-x-x-x-x-x-x-x-x-x-x-x-\")\n",
    "    print(\"TRAINING\")\n",
    "    model.train()\n",
    "    track_loss = 0.0\n",
    "    num_correct=0\n",
    "    for i, (imgs, labels) in enumerate(train_dl):\n",
    "        imgs = imgs.to(device)\n",
    "        labels = labels.to(device)\n",
    "        latent1 = encoder1(imgs)\n",
    "        latent2 = encoder2(latent1)\n",
    "        pred = model2(latent2)\n",
    "        \n",
    "        loss = loss_fn1(pred, labels)\n",
    "        track_loss+=loss.item()\n",
    "        num_correct+=(torch.argmax(pred,dim=1)==labels).type(torch.float).sum().item()\n",
    "        \n",
    "        loss.backward()\n",
    "        optimizer2.step()\n",
    "        optimizer2.zero_grad()\n",
    "        \n",
    "        if i%PRINT_AT==0:\n",
    "            running_loss = round(track_loss/(i+1), 2)\n",
    "            running_acc = round((num_correct/((i+1)*batch_size))*100,2)\n",
    "            print(\"Batch:\", i+1, \"/\",len(train_dl), \"Running Loss:\",running_loss, \"Running Accuracy:\",running_acc)\n",
    "            \n",
    "    epoch_loss=track_loss/len(train_dl)\n",
    "    epoch_acc=(num_correct/len(train_dl.dataset))*100\n",
    "    print(\"Training:\", \"Epoch Loss:\", round(epoch_loss,4), \"Epoch Accuracy:\", round(epoch_acc,4))\n",
    "    \n",
    "    print(\"VALIDATING\")\n",
    "    model.eval()\n",
    "    track_loss=0\n",
    "    num_correct=0\n",
    "    with torch.no_grad():\n",
    "        for i, (imgs, labels) in enumerate(valid_dl):\n",
    "            imgs = imgs.to(device)\n",
    "            labels = labels.to(device)\n",
    "            latent1 = encoder1(imgs)\n",
    "            latent2 = encoder2(latent1)\n",
    "            pred = model2(latent2)\n",
    "        \n",
    "            loss = loss_fn1(pred, labels)\n",
    "            track_loss+=loss.item()\n",
    "            num_correct+=(torch.argmax(pred,dim=1)==labels).type(torch.float).sum().item()\n",
    "            \n",
    "            if i%PRINT_AT==0:\n",
    "                running_loss = round(track_loss/(i+1), 2)\n",
    "                running_acc = round((num_correct/((i+1)*batch_size))*100,2)\n",
    "                print(\"Batch:\", i+1, \"/\",len(valid_dl), \"Running Loss:\",running_loss, \"Running Accuracy:\",running_acc)\n",
    "    epoch_loss=track_loss/len(valid_dl)\n",
    "    epoch_acc=(num_correct/len(val_set))*100\n",
    "    print(\"Validating:\", \"Epoch Loss:\", round(epoch_loss,4), \"Epoch Accuracy:\", round(epoch_acc,4))\n",
    "    \n",
    "print(\"Done!\")"
   ]
  },
  {
   "cell_type": "code",
   "execution_count": null,
   "metadata": {},
   "outputs": [],
   "source": [
    "img, labels = next(iter(test_dl))\n",
    "img = img.to(device)\n",
    "\n",
    "print(img.shape)"
   ]
  }
 ],
 "metadata": {
  "kernelspec": {
   "display_name": "mainenv",
   "language": "python",
   "name": "python3"
  },
  "language_info": {
   "codemirror_mode": {
    "name": "ipython",
    "version": 3
   },
   "file_extension": ".py",
   "mimetype": "text/x-python",
   "name": "python",
   "nbconvert_exporter": "python",
   "pygments_lexer": "ipython3",
   "version": "3.11.8"
  }
 },
 "nbformat": 4,
 "nbformat_minor": 2
}
