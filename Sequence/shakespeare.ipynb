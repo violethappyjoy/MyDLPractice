{
 "cells": [
  {
   "cell_type": "code",
   "execution_count": 1,
   "metadata": {},
   "outputs": [
    {
     "name": "stdout",
     "output_type": "stream",
     "text": [
      "Sat Apr 27 22:58:58 2024       \n",
      "+-----------------------------------------------------------------------------------------+\n",
      "| NVIDIA-SMI 550.76                 Driver Version: 550.76         CUDA Version: 12.4     |\n",
      "|-----------------------------------------+------------------------+----------------------+\n",
      "| GPU  Name                 Persistence-M | Bus-Id          Disp.A | Volatile Uncorr. ECC |\n",
      "| Fan  Temp   Perf          Pwr:Usage/Cap |           Memory-Usage | GPU-Util  Compute M. |\n",
      "|                                         |                        |               MIG M. |\n",
      "|=========================================+========================+======================|\n",
      "|   0  NVIDIA GeForce RTX 2070 ...    Off |   00000000:0A:00.0  On |                  N/A |\n",
      "|  0%   46C    P5             24W /  215W |     502MiB /   8192MiB |     31%      Default |\n",
      "|                                         |                        |                  N/A |\n",
      "+-----------------------------------------+------------------------+----------------------+\n",
      "                                                                                         \n",
      "+-----------------------------------------------------------------------------------------+\n",
      "| Processes:                                                                              |\n",
      "|  GPU   GI   CI        PID   Type   Process name                              GPU Memory |\n",
      "|        ID   ID                                                               Usage      |\n",
      "|=========================================================================================|\n",
      "|    0   N/A  N/A       686      G   /usr/lib/Xorg                                  22MiB |\n",
      "|    0   N/A  N/A       749      G   Hyprland                                      175MiB |\n",
      "|    0   N/A  N/A     35978      G   /usr/lib/firefox/firefox                      176MiB |\n",
      "|    0   N/A  N/A     39115      G   kitty                                          11MiB |\n",
      "|    0   N/A  N/A     41875      G   Xwayland                                       15MiB |\n",
      "|    0   N/A  N/A     51084      G   kitty                                           7MiB |\n",
      "|    0   N/A  N/A     52284      G   ...ictureAPI --variations-seed-version         31MiB |\n",
      "+-----------------------------------------------------------------------------------------+\n"
     ]
    }
   ],
   "source": [
    "!nvidia-smi"
   ]
  },
  {
   "cell_type": "code",
   "execution_count": 2,
   "metadata": {},
   "outputs": [],
   "source": [
    "import numpy as np\n",
    "import pandas as pd\n",
    "import matplotlib.pyplot as plt\n",
    "import opendatasets as od\n",
    "import string\n",
    "import random\n",
    "import unicodedata\n",
    "import os\n",
    "import re\n",
    "\n",
    "from collections import Counter\n",
    "import nltk\n",
    "from nltk.tokenize import word_tokenize\n",
    "\n",
    "import torch\n",
    "import torch.nn as nn\n",
    "import torch.nn.functional as F\n",
    "from torch.utils.data import Dataset, DataLoader\n",
    "from torchvision.transforms import Normalize, ToTensor"
   ]
  },
  {
   "cell_type": "code",
   "execution_count": 3,
   "metadata": {},
   "outputs": [
    {
     "name": "stdout",
     "output_type": "stream",
     "text": [
      "cuda:0\n"
     ]
    }
   ],
   "source": [
    "if torch.cuda.is_available():\n",
    "    device=torch.device(type=\"cuda\", index=0)\n",
    "else:\n",
    "    device=torch.device(type=\"cpu\", index=0)\n",
    "print(device)"
   ]
  },
  {
   "cell_type": "code",
   "execution_count": 4,
   "metadata": {},
   "outputs": [
    {
     "data": {
      "text/html": [
       "<div>\n",
       "<style scoped>\n",
       "    .dataframe tbody tr th:only-of-type {\n",
       "        vertical-align: middle;\n",
       "    }\n",
       "\n",
       "    .dataframe tbody tr th {\n",
       "        vertical-align: top;\n",
       "    }\n",
       "\n",
       "    .dataframe thead th {\n",
       "        text-align: right;\n",
       "    }\n",
       "</style>\n",
       "<table border=\"1\" class=\"dataframe\">\n",
       "  <thead>\n",
       "    <tr style=\"text-align: right;\">\n",
       "      <th></th>\n",
       "      <th>Unnamed: 0</th>\n",
       "      <th>id</th>\n",
       "      <th>og</th>\n",
       "      <th>t</th>\n",
       "    </tr>\n",
       "  </thead>\n",
       "  <tbody>\n",
       "    <tr>\n",
       "      <th>0</th>\n",
       "      <td>0</td>\n",
       "      <td>42928-1500614319216-63344</td>\n",
       "      <td>You do not meet a man but frowns:</td>\n",
       "      <td>Every man you meet these days is frowning.</td>\n",
       "    </tr>\n",
       "    <tr>\n",
       "      <th>1</th>\n",
       "      <td>1</td>\n",
       "      <td>42928-1500614326583-89821</td>\n",
       "      <td>our bloods  No more obey the heavens than our...</td>\n",
       "      <td>Our bodies are in agreement with the planetar...</td>\n",
       "    </tr>\n",
       "    <tr>\n",
       "      <th>2</th>\n",
       "      <td>2</td>\n",
       "      <td>A-63849</td>\n",
       "      <td>But what's the matter?</td>\n",
       "      <td>What's wrong?</td>\n",
       "    </tr>\n",
       "    <tr>\n",
       "      <th>3</th>\n",
       "      <td>3</td>\n",
       "      <td>42930-1500614347266-80123</td>\n",
       "      <td>His daughter, and the heir of's kingdom, whom...</td>\n",
       "      <td>The king wanted his daughter, the only heir to...</td>\n",
       "    </tr>\n",
       "    <tr>\n",
       "      <th>4</th>\n",
       "      <td>4</td>\n",
       "      <td>42930-1500614355280-38326</td>\n",
       "      <td>she's wedded;  Her husband banish'd; she impr...</td>\n",
       "      <td>She's married, her husband is banished, she's...</td>\n",
       "    </tr>\n",
       "  </tbody>\n",
       "</table>\n",
       "</div>"
      ],
      "text/plain": [
       "   Unnamed: 0                         id  \\\n",
       "0           0  42928-1500614319216-63344   \n",
       "1           1  42928-1500614326583-89821   \n",
       "2           2                    A-63849   \n",
       "3           3  42930-1500614347266-80123   \n",
       "4           4  42930-1500614355280-38326   \n",
       "\n",
       "                                                  og  \\\n",
       "0                 You do not meet a man but frowns:    \n",
       "1   our bloods  No more obey the heavens than our...   \n",
       "2                           But what's the matter?     \n",
       "3   His daughter, and the heir of's kingdom, whom...   \n",
       "4   she's wedded;  Her husband banish'd; she impr...   \n",
       "\n",
       "                                                   t  \n",
       "0         Every man you meet these days is frowning.  \n",
       "1   Our bodies are in agreement with the planetar...  \n",
       "2                                      What's wrong?  \n",
       "3  The king wanted his daughter, the only heir to...  \n",
       "4   She's married, her husband is banished, she's...  "
      ]
     },
     "execution_count": 4,
     "metadata": {},
     "output_type": "execute_result"
    }
   ],
   "source": [
    "dataset_path = \"Datasets/final.csv\"\n",
    "dataset = pd.read_csv(dataset_path)\n",
    "dataset.head()"
   ]
  },
  {
   "cell_type": "code",
   "execution_count": 20,
   "metadata": {},
   "outputs": [
    {
     "data": {
      "text/plain": [
       "51787"
      ]
     },
     "execution_count": 20,
     "metadata": {},
     "output_type": "execute_result"
    }
   ],
   "source": [
    "pairs = list(zip(dataset['og'], dataset['t']))\n",
    "len(pairs)"
   ]
  },
  {
   "cell_type": "code",
   "execution_count": 21,
   "metadata": {},
   "outputs": [],
   "source": [
    "def normalizeString(s):\n",
    "    sres=''\n",
    "    for c in unicodedata.normalize('NFD', s):\n",
    "        if unicodedata.category(c) != 'Mn':\n",
    "            sres+=c\n",
    "    \n",
    "    sres = re.sub(r\"([.!?])\", r\" \\1\", sres) \n",
    "    sres = re.sub(r\"[^a-zA-Z!?]+\", r\" \", sres) \n",
    "    return sres.strip()\n",
    "\n",
    "def createNormalizedPairs(pairs):\n",
    "    initpairs = []\n",
    "    for pair in pairs:\n",
    "        s1, s2 = pair\n",
    "        s1=normalizeString(s1.lower().strip())\n",
    "        s2=normalizeString(s2.lower().strip())\n",
    "        # print(len(s1), \" \",len(s2))\n",
    "        initpairs.append([s1,s2])\n",
    "    # print(len(initpairs))\n",
    "    return initpairs"
   ]
  },
  {
   "cell_type": "code",
   "execution_count": 22,
   "metadata": {},
   "outputs": [],
   "source": [
    "MAX_LENGTH = 15\n",
    "\n",
    "def filterpairs(initpairs):\n",
    "    eng_prefixes = (\n",
    "        \"i am \", \"i m \",\n",
    "        \"he is\", \"he s \",\n",
    "        \"she is\", \"she s \",\n",
    "        \"you are\", \"you re \",\n",
    "        \"we are\", \"we re \",\n",
    "        \"they are\", \"they re \",\n",
    "        \"i have \", \"i ve \",\n",
    "        \"you have \", \"you ve \",\n",
    "        \"we have \", \"we ve \",\n",
    "        \"they have \", \"they ve \",\n",
    "        \"is not \", \"isn t \",\n",
    "        \"are not \", \"aren t \",\n",
    "        \"was not \", \"wasn t \",\n",
    "        \"were not \", \"weren t \",\n",
    "        \"have not \", \"haven t \",\n",
    "        \"has not \", \"hasn t \",\n",
    "        \"had not \", \"hadn t \",\n",
    "        \"will not \", \"won t \",\n",
    "        \"would not \", \"wouldn t \",\n",
    "        \"do not \", \"don t \",\n",
    "        \"does not \", \"doesn t \",\n",
    "        \"did not \", \"didn t \",\n",
    "        \"can not \", \"can t \",\n",
    "        \"could not \", \"couldn t \",\n",
    "        \"should not \", \"shouldn t \",\n",
    "        \"might not \", \"mightn t \",\n",
    "        \"must not \", \"mustn t \"\n",
    "    )\n",
    "    pairs = []\n",
    "    for pair in initpairs:\n",
    "        if len(pair[0].split(\" \")) < MAX_LENGTH and len(pair[1].split(\" \")) < MAX_LENGTH and pair[0].lower().startswith(eng_prefixes):\n",
    "            pairs.append(pair)\n",
    "        \n",
    "    print(\"Filtered pairs:\", len(pairs))\n",
    "    return pairs"
   ]
  },
  {
   "cell_type": "code",
   "execution_count": 23,
   "metadata": {},
   "outputs": [
    {
     "name": "stdout",
     "output_type": "stream",
     "text": [
      "Filtered pairs: 739\n"
     ]
    }
   ],
   "source": [
    "pairs = createNormalizedPairs(pairs)\n",
    "pairs = filterpairs(pairs)"
   ]
  },
  {
   "cell_type": "code",
   "execution_count": 24,
   "metadata": {},
   "outputs": [],
   "source": [
    "class Vocab:\n",
    "    def __init__(self, name):\n",
    "        self.name = name\n",
    "        self.word2index={'SOS':0, 'EOS':1}\n",
    "        self.index2word={0:'SOS', 1:'EOS'}\n",
    "        self.word2count={}\n",
    "        self.nwords = 2\n",
    "        \n",
    "    def buildVocab(self, s):\n",
    "        for word in s.split(\" \"):\n",
    "            if word not in self.word2index:\n",
    "                self.word2index[word] = self.nwords\n",
    "                self.index2word[self.nwords] = word\n",
    "                self.word2count[word]=1\n",
    "                self.nwords+=1\n",
    "            else:\n",
    "                self.word2count[word]+=1"
   ]
  },
  {
   "cell_type": "code",
   "execution_count": null,
   "metadata": {},
   "outputs": [],
   "source": [
    "def get_input_ids(sentence, langobj):\n",
    "    input_ids = []\n",
    "    for word in sentence.split(\" \"):\n",
    "        input_ids.append(langobj.word3index[word])\n",
    "        \n",
    "    if langobj.name=='shake':\n",
    "        input_ids.append(langobj.word2index['EOS'])\n",
    "    else:\n",
    "        input_ids.insert(0,langobj.word2index['SOS'])\n",
    "        input_ids.append(langobj.word2index['EOS'])\n",
    "    return torch.tensor(input_ids)"
   ]
  },
  {
   "cell_type": "code",
   "execution_count": null,
   "metadata": {},
   "outputs": [],
   "source": [
    "class customDataset(Dataset):\n",
    "    def __init__(self):\n",
    "        super().__init__()\n",
    "        \n",
    "    def __len__(self):\n",
    "        return length\n",
    "    \n",
    "    def __getitem__(self, idx):\n",
    "        t=pairs[idx][0]\n",
    "        s=pairs[idx][1]"
   ]
  }
 ],
 "metadata": {
  "kernelspec": {
   "display_name": "mainenv",
   "language": "python",
   "name": "mainenv"
  },
  "language_info": {
   "codemirror_mode": {
    "name": "ipython",
    "version": 3
   },
   "file_extension": ".py",
   "mimetype": "text/x-python",
   "name": "python",
   "nbconvert_exporter": "python",
   "pygments_lexer": "ipython3",
   "version": "3.12.3"
  }
 },
 "nbformat": 4,
 "nbformat_minor": 4
}
